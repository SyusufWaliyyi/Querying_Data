{
 "cells": [
  {
   "cell_type": "code",
   "execution_count": 1,
   "id": "88bc6d47",
   "metadata": {},
   "outputs": [],
   "source": [
    "import sqlite3"
   ]
  },
  {
   "cell_type": "code",
   "execution_count": 2,
   "id": "ce0b4df0",
   "metadata": {},
   "outputs": [],
   "source": [
    "conn = sqlite3.connect('student.db')\n",
    "cursor = conn.cursor()"
   ]
  },
  {
   "cell_type": "code",
   "execution_count": 3,
   "id": "97ff31e4",
   "metadata": {},
   "outputs": [
    {
     "data": {
      "text/plain": [
       "<sqlite3.Cursor at 0x20e73184cc0>"
      ]
     },
     "execution_count": 3,
     "metadata": {},
     "output_type": "execute_result"
    }
   ],
   "source": [
    "sql_create_table = '''CREATE TABLE Students (\n",
    "    Student_ID INT PRIMARY KEY,\n",
    "    Name VARCHAR(100),\n",
    "    Course VARCHAR(100),\n",
    "    GPA FLOAT\n",
    ")'''\n",
    "\n",
    "cursor.execute(sql_create_table)\n"
   ]
  },
  {
   "cell_type": "code",
   "execution_count": 4,
   "id": "1223327a",
   "metadata": {},
   "outputs": [],
   "source": [
    "list_of_students = [\n",
    "    (1, 'Safiyya', 'MBBS', 3.98),\n",
    "    (2, 'Badaru', 'Mathematics', 3.9),\n",
    "    (3, 'Hassana', 'Physics', 3.7),\n",
    "    (4, 'Dauda', 'Chemistry', 3.6),\n",
    "    (5, 'Abubakar', 'Biology', 3.9),\n",
    "    (6, 'Faruq', 'History', 3.8),\n",
    "    (7, 'Garba', 'Geography', 3.7),\n",
    "    (8, 'Habiba', 'English', 3.9),\n",
    "    (9, 'Idris', 'Psychology', 3.8),\n",
    "    (10, 'Jamilu', 'Sociology', 3.7),\n",
    "    (11, 'Kashim', 'Economics', 3.9),\n",
    "    (12, 'Lawisa', 'Political Science', 3.8),\n",
    "    (13, 'Maryam', 'Philosophy', 3.7),\n",
    "    (14, 'Nuhu', 'Anthropology', 3.9),\n",
    "    (15, 'Umar', 'Anthropology', 3.8),\n",
    "    (16, 'Usman', 'Anthropology', 3.7),\n",
    "    (17, 'Farida', 'Anthropology', 3.9),\n",
    "    (18, 'Kabir', 'Anthropology', 3.8),\n",
    "    (19, 'Rabiu', 'Anthropology', 3.7),\n",
    "    (20, 'Salihu', 'Anthropology', 3.9),\n",
    "    (21, 'Tom', 'Anthropology', 3.8),\n",
    "    (22, 'Umma', 'Anthropology', 3.7),\n",
    "    (23, 'Basira', 'Anthropology', 3.9),\n",
    "    (24, 'Wasila', 'Anthropology', 3.8),\n",
    "    (25, 'Nazir', 'Anthropology', 3.7),\n",
    "    (26, 'Yunusa', 'Anthropology', 3.9),\n",
    "    (27, 'Zainab', 'Anthropology', 3.8),\n",
    "    (28, 'Adam', 'Anthropology', 3.7),\n",
    "    (29, 'Aslamiyya', 'Anthropology', 3.9),\n",
    "    (30, 'Sadiq', 'Anthropology', 3.8),\n",
    "    (31, 'Aliyu', 'Anthropology', 3.7),\n",
    "    (32, 'Abdullahi', 'Anthropology', 3.9),\n",
    "    (33, 'Sadiya', 'Anthropology', 3.8),\n",
    "    (34, 'Halima', 'Anthropology', 3.7),\n",
    "    (35, 'Hannatu', 'Anthropology', 3.9)]"
   ]
  },
  {
   "cell_type": "code",
   "execution_count": 5,
   "id": "cb536617",
   "metadata": {},
   "outputs": [],
   "source": [
    "# Insert data into the Students table\n",
    "for student in list_of_students:\n",
    "    Student_ID = student[0]\n",
    "    Name = student[1]\n",
    "    Course = student[2]\n",
    "    GPA = student[3]\n",
    "\n",
    "    cursor.execute(\"INSERT INTO Students (Student_ID, Name, Course, GPA) VALUES (?, ?, ?, ?)\", (Student_ID, Name, Course, GPA))\n",
    "conn.commit()"
   ]
  },
  {
   "cell_type": "code",
   "execution_count": 6,
   "id": "cfe45b47",
   "metadata": {},
   "outputs": [
    {
     "name": "stdout",
     "output_type": "stream",
     "text": [
      "(1, 'Safiyya', 'MBBS', 3.98)\n",
      "(2, 'Badaru', 'Mathematics', 3.9)\n",
      "(3, 'Hassana', 'Physics', 3.7)\n",
      "(4, 'Dauda', 'Chemistry', 3.6)\n",
      "(5, 'Abubakar', 'Biology', 3.9)\n",
      "(6, 'Faruq', 'History', 3.8)\n",
      "(7, 'Garba', 'Geography', 3.7)\n",
      "(8, 'Habiba', 'English', 3.9)\n",
      "(9, 'Idris', 'Psychology', 3.8)\n",
      "(10, 'Jamilu', 'Sociology', 3.7)\n",
      "(11, 'Kashim', 'Economics', 3.9)\n",
      "(12, 'Lawisa', 'Political Science', 3.8)\n",
      "(13, 'Maryam', 'Philosophy', 3.7)\n",
      "(14, 'Nuhu', 'Anthropology', 3.9)\n",
      "(15, 'Umar', 'Anthropology', 3.8)\n",
      "(16, 'Usman', 'Anthropology', 3.7)\n",
      "(17, 'Farida', 'Anthropology', 3.9)\n",
      "(18, 'Kabir', 'Anthropology', 3.8)\n",
      "(19, 'Rabiu', 'Anthropology', 3.7)\n",
      "(20, 'Salihu', 'Anthropology', 3.9)\n",
      "(21, 'Tom', 'Anthropology', 3.8)\n",
      "(22, 'Umma', 'Anthropology', 3.7)\n",
      "(23, 'Basira', 'Anthropology', 3.9)\n",
      "(24, 'Wasila', 'Anthropology', 3.8)\n",
      "(25, 'Nazir', 'Anthropology', 3.7)\n",
      "(26, 'Yunusa', 'Anthropology', 3.9)\n",
      "(27, 'Zainab', 'Anthropology', 3.8)\n",
      "(28, 'Adam', 'Anthropology', 3.7)\n",
      "(29, 'Aslamiyya', 'Anthropology', 3.9)\n",
      "(30, 'Sadiq', 'Anthropology', 3.8)\n",
      "(31, 'Aliyu', 'Anthropology', 3.7)\n",
      "(32, 'Abdullahi', 'Anthropology', 3.9)\n",
      "(33, 'Sadiya', 'Anthropology', 3.8)\n",
      "(34, 'Halima', 'Anthropology', 3.7)\n",
      "(35, 'Hannatu', 'Anthropology', 3.9)\n"
     ]
    }
   ],
   "source": [
    "# fetch all data from the Students table\n",
    "cursor.execute(\"SELECT * FROM Students\")\n",
    "\n",
    "# store the results in a variable\n",
    "results = cursor.fetchall()\n",
    "\n",
    "# print the results\n",
    "for result in results:\n",
    "    print(result)"
   ]
  },
  {
   "cell_type": "markdown",
   "id": "05ecb3fd",
   "metadata": {},
   "source": [
    "Slicing"
   ]
  },
  {
   "cell_type": "code",
   "execution_count": 7,
   "id": "af897d52",
   "metadata": {},
   "outputs": [
    {
     "name": "stdout",
     "output_type": "stream",
     "text": [
      "\n",
      "Students with GPA greater than 3.8:\n",
      "(1, 'Safiyya', 'MBBS', 3.98)\n",
      "(2, 'Badaru', 'Mathematics', 3.9)\n",
      "(5, 'Abubakar', 'Biology', 3.9)\n",
      "(8, 'Habiba', 'English', 3.9)\n",
      "(11, 'Kashim', 'Economics', 3.9)\n",
      "(14, 'Nuhu', 'Anthropology', 3.9)\n",
      "(17, 'Farida', 'Anthropology', 3.9)\n",
      "(20, 'Salihu', 'Anthropology', 3.9)\n",
      "(23, 'Basira', 'Anthropology', 3.9)\n",
      "(26, 'Yunusa', 'Anthropology', 3.9)\n",
      "(29, 'Aslamiyya', 'Anthropology', 3.9)\n",
      "(32, 'Abdullahi', 'Anthropology', 3.9)\n",
      "(35, 'Hannatu', 'Anthropology', 3.9)\n"
     ]
    }
   ],
   "source": [
    "cursor.execute(\"SELECT * FROM Students WHERE GPA > 3.8\")\n",
    "students_with_high_gpa = cursor.fetchall()\n",
    "print(\"\\nStudents with GPA greater than 3.8:\")\n",
    "for student in students_with_high_gpa:\n",
    "    print(student)"
   ]
  },
  {
   "cell_type": "code",
   "execution_count": 8,
   "id": "4abdb86a",
   "metadata": {},
   "outputs": [
    {
     "name": "stdout",
     "output_type": "stream",
     "text": [
      "\n",
      "Anthropology Students:\n",
      "(14, 'Nuhu', 'Anthropology', 3.9)\n",
      "(15, 'Umar', 'Anthropology', 3.8)\n",
      "(16, 'Usman', 'Anthropology', 3.7)\n",
      "(17, 'Farida', 'Anthropology', 3.9)\n",
      "(18, 'Kabir', 'Anthropology', 3.8)\n",
      "(19, 'Rabiu', 'Anthropology', 3.7)\n",
      "(20, 'Salihu', 'Anthropology', 3.9)\n",
      "(21, 'Tom', 'Anthropology', 3.8)\n",
      "(22, 'Umma', 'Anthropology', 3.7)\n",
      "(23, 'Basira', 'Anthropology', 3.9)\n",
      "(24, 'Wasila', 'Anthropology', 3.8)\n",
      "(25, 'Nazir', 'Anthropology', 3.7)\n",
      "(26, 'Yunusa', 'Anthropology', 3.9)\n",
      "(27, 'Zainab', 'Anthropology', 3.8)\n",
      "(28, 'Adam', 'Anthropology', 3.7)\n",
      "(29, 'Aslamiyya', 'Anthropology', 3.9)\n",
      "(30, 'Sadiq', 'Anthropology', 3.8)\n",
      "(31, 'Aliyu', 'Anthropology', 3.7)\n",
      "(32, 'Abdullahi', 'Anthropology', 3.9)\n",
      "(33, 'Sadiya', 'Anthropology', 3.8)\n",
      "(34, 'Halima', 'Anthropology', 3.7)\n",
      "(35, 'Hannatu', 'Anthropology', 3.9)\n"
     ]
    }
   ],
   "source": [
    "cursor.execute(\"SELECT * FROM Students WHERE Course = 'Anthropology'\")\n",
    "anthropology_students = cursor.fetchall()\n",
    "print(\"\\nAnthropology Students:\")\n",
    "for student in anthropology_students:\n",
    "    print(student)"
   ]
  },
  {
   "cell_type": "markdown",
   "id": "3f6ecc42",
   "metadata": {},
   "source": [
    "Antropology and GPA > 3.8"
   ]
  },
  {
   "cell_type": "code",
   "execution_count": 9,
   "id": "5547501b",
   "metadata": {},
   "outputs": [
    {
     "name": "stdout",
     "output_type": "stream",
     "text": [
      "\n",
      "Anthropology Students:\n",
      "(14, 'Nuhu', 'Anthropology', 3.9)\n",
      "(17, 'Farida', 'Anthropology', 3.9)\n",
      "(20, 'Salihu', 'Anthropology', 3.9)\n",
      "(23, 'Basira', 'Anthropology', 3.9)\n",
      "(26, 'Yunusa', 'Anthropology', 3.9)\n",
      "(29, 'Aslamiyya', 'Anthropology', 3.9)\n",
      "(32, 'Abdullahi', 'Anthropology', 3.9)\n",
      "(35, 'Hannatu', 'Anthropology', 3.9)\n"
     ]
    }
   ],
   "source": [
    "cursor.execute(\"SELECT * FROM Students WHERE Course = 'Anthropology' AND GPA > 3.8\")\n",
    "anthropology_students_High_GPA = cursor.fetchall()\n",
    "print(\"\\nAnthropology Students:\")\n",
    "for student_GPA in anthropology_students_High_GPA:\n",
    "    print(student_GPA)"
   ]
  },
  {
   "cell_type": "markdown",
   "id": "a7ac5dc5",
   "metadata": {},
   "source": [
    "Updating a record"
   ]
  },
  {
   "cell_type": "code",
   "execution_count": 10,
   "id": "56207c35",
   "metadata": {},
   "outputs": [
    {
     "name": "stdout",
     "output_type": "stream",
     "text": [
      "\n",
      "After inserting a new student:\n",
      "(1, 'Safiyya', 'MBBS', 3.98)\n",
      "(2, 'Badaru', 'Mathematics', 3.9)\n",
      "(3, 'Hassana', 'Physics', 3.7)\n",
      "(4, 'Dauda', 'Chemistry', 3.6)\n",
      "(5, 'Abubakar', 'Biology', 3.9)\n",
      "(6, 'Faruq', 'History', 3.8)\n",
      "(7, 'Garba', 'Geography', 3.7)\n",
      "(8, 'Habiba', 'English', 3.9)\n",
      "(9, 'Idris', 'Psychology', 3.8)\n",
      "(10, 'Jamilu', 'Sociology', 3.7)\n",
      "(11, 'Kashim', 'Economics', 3.9)\n",
      "(12, 'Lawisa', 'Political Science', 3.8)\n",
      "(13, 'Maryam', 'Philosophy', 3.7)\n",
      "(14, 'Nuhu', 'Anthropology', 3.9)\n",
      "(15, 'Umar', 'Anthropology', 3.8)\n",
      "(16, 'Usman', 'Anthropology', 3.7)\n",
      "(17, 'Farida', 'Anthropology', 3.9)\n",
      "(18, 'Kabir', 'Anthropology', 3.8)\n",
      "(19, 'Rabiu', 'Anthropology', 3.7)\n",
      "(20, 'Salihu', 'Anthropology', 3.9)\n",
      "(21, 'Tom', 'Anthropology', 3.8)\n",
      "(22, 'Umma', 'Anthropology', 3.7)\n",
      "(23, 'Basira', 'Anthropology', 3.9)\n",
      "(24, 'Wasila', 'Anthropology', 3.8)\n",
      "(25, 'Nazir', 'Anthropology', 3.7)\n",
      "(26, 'Yunusa', 'Anthropology', 3.9)\n",
      "(27, 'Zainab', 'Anthropology', 3.8)\n",
      "(28, 'Adam', 'Anthropology', 3.7)\n",
      "(29, 'Aslamiyya', 'Anthropology', 3.9)\n",
      "(30, 'Sadiq', 'Anthropology', 3.8)\n",
      "(31, 'Aliyu', 'Anthropology', 3.7)\n",
      "(32, 'Abdullahi', 'Anthropology', 3.9)\n",
      "(33, 'Sadiya', 'Anthropology', 3.8)\n",
      "(34, 'Halima', 'Anthropology', 3.7)\n",
      "(35, 'Hannatu', 'Anthropology', 3.9)\n",
      "(36, 'Nasrin', 'Computer Science', 3.95)\n"
     ]
    }
   ],
   "source": [
    "# Insert a new student record\n",
    "new_student = (36, 'Nasrin', 'Computer Science', 3.95)\n",
    "cursor.execute(\"INSERT INTO Students (Student_ID, Name, Course, GPA) VALUES (?, ?, ?, ?)\", new_student)\n",
    "conn.commit()\n",
    "\n",
    "print(\"\\nAfter inserting a new student:\")\n",
    "cursor.execute(\"SELECT * FROM Students\")\n",
    "results = cursor.fetchall()\n",
    "for result in results:\n",
    "    print(result)"
   ]
  },
  {
   "cell_type": "markdown",
   "id": "447a3d1b",
   "metadata": {},
   "source": [
    "Delete an Entry"
   ]
  },
  {
   "cell_type": "code",
   "execution_count": 11,
   "id": "bfbab842",
   "metadata": {},
   "outputs": [
    {
     "name": "stdout",
     "output_type": "stream",
     "text": [
      "\n",
      "After deleting student with ID 10:\n",
      "(1, 'Safiyya', 'MBBS', 3.98)\n",
      "(2, 'Badaru', 'Mathematics', 3.9)\n",
      "(3, 'Hassana', 'Physics', 3.7)\n",
      "(4, 'Dauda', 'Chemistry', 3.6)\n",
      "(5, 'Abubakar', 'Biology', 3.9)\n",
      "(6, 'Faruq', 'History', 3.8)\n",
      "(7, 'Garba', 'Geography', 3.7)\n",
      "(8, 'Habiba', 'English', 3.9)\n",
      "(9, 'Idris', 'Psychology', 3.8)\n",
      "(11, 'Kashim', 'Economics', 3.9)\n",
      "(12, 'Lawisa', 'Political Science', 3.8)\n",
      "(13, 'Maryam', 'Philosophy', 3.7)\n",
      "(14, 'Nuhu', 'Anthropology', 3.9)\n",
      "(15, 'Umar', 'Anthropology', 3.8)\n",
      "(16, 'Usman', 'Anthropology', 3.7)\n",
      "(17, 'Farida', 'Anthropology', 3.9)\n",
      "(18, 'Kabir', 'Anthropology', 3.8)\n",
      "(19, 'Rabiu', 'Anthropology', 3.7)\n",
      "(20, 'Salihu', 'Anthropology', 3.9)\n",
      "(21, 'Tom', 'Anthropology', 3.8)\n",
      "(22, 'Umma', 'Anthropology', 3.7)\n",
      "(23, 'Basira', 'Anthropology', 3.9)\n",
      "(24, 'Wasila', 'Anthropology', 3.8)\n",
      "(25, 'Nazir', 'Anthropology', 3.7)\n",
      "(26, 'Yunusa', 'Anthropology', 3.9)\n",
      "(27, 'Zainab', 'Anthropology', 3.8)\n",
      "(28, 'Adam', 'Anthropology', 3.7)\n",
      "(29, 'Aslamiyya', 'Anthropology', 3.9)\n",
      "(30, 'Sadiq', 'Anthropology', 3.8)\n",
      "(31, 'Aliyu', 'Anthropology', 3.7)\n",
      "(32, 'Abdullahi', 'Anthropology', 3.9)\n",
      "(33, 'Sadiya', 'Anthropology', 3.8)\n",
      "(34, 'Halima', 'Anthropology', 3.7)\n",
      "(35, 'Hannatu', 'Anthropology', 3.9)\n",
      "(36, 'Nasrin', 'Computer Science', 3.95)\n"
     ]
    }
   ],
   "source": [
    "# Delete a student record\n",
    "cursor.execute(\"DELETE FROM Students WHERE Student_ID = 10\")\n",
    "conn.commit()\n",
    "\n",
    "# Print after deletion\n",
    "print(\"\\nAfter deleting student with ID 10:\")\n",
    "cursor.execute(\"SELECT * FROM Students\")\n",
    "results = cursor.fetchall()\n",
    "for result in results:\n",
    "    print(result)"
   ]
  },
  {
   "cell_type": "code",
   "execution_count": 12,
   "id": "27aefda3",
   "metadata": {},
   "outputs": [
    {
     "name": "stdout",
     "output_type": "stream",
     "text": [
      "\n",
      "After updating GPA for student with ID 1:\n",
      "(1, 'Safiyya', 'MBBS', 4.0)\n",
      "(2, 'Badaru', 'Mathematics', 3.9)\n",
      "(3, 'Hassana', 'Physics', 3.7)\n",
      "(4, 'Dauda', 'Chemistry', 3.6)\n",
      "(5, 'Abubakar', 'Biology', 3.9)\n",
      "(6, 'Faruq', 'History', 3.8)\n",
      "(7, 'Garba', 'Geography', 3.7)\n",
      "(8, 'Habiba', 'English', 3.9)\n",
      "(9, 'Idris', 'Psychology', 3.8)\n",
      "(11, 'Kashim', 'Economics', 3.9)\n",
      "(12, 'Lawisa', 'Political Science', 3.8)\n",
      "(13, 'Maryam', 'Philosophy', 3.7)\n",
      "(14, 'Nuhu', 'Anthropology', 3.9)\n",
      "(15, 'Umar', 'Anthropology', 3.8)\n",
      "(16, 'Usman', 'Anthropology', 3.7)\n",
      "(17, 'Farida', 'Anthropology', 3.9)\n",
      "(18, 'Kabir', 'Anthropology', 3.8)\n",
      "(19, 'Rabiu', 'Anthropology', 3.7)\n",
      "(20, 'Salihu', 'Anthropology', 3.9)\n",
      "(21, 'Tom', 'Anthropology', 3.8)\n",
      "(22, 'Umma', 'Anthropology', 3.7)\n",
      "(23, 'Basira', 'Anthropology', 3.9)\n",
      "(24, 'Wasila', 'Anthropology', 3.8)\n",
      "(25, 'Nazir', 'Anthropology', 3.7)\n",
      "(26, 'Yunusa', 'Anthropology', 3.9)\n",
      "(27, 'Zainab', 'Anthropology', 3.8)\n",
      "(28, 'Adam', 'Anthropology', 3.7)\n",
      "(29, 'Aslamiyya', 'Anthropology', 3.9)\n",
      "(30, 'Sadiq', 'Anthropology', 3.8)\n",
      "(31, 'Aliyu', 'Anthropology', 3.7)\n",
      "(32, 'Abdullahi', 'Anthropology', 3.9)\n",
      "(33, 'Sadiya', 'Anthropology', 3.8)\n",
      "(34, 'Halima', 'Anthropology', 3.7)\n",
      "(35, 'Hannatu', 'Anthropology', 3.9)\n",
      "(36, 'Nasrin', 'Computer Science', 3.95)\n"
     ]
    }
   ],
   "source": [
    "# Update a student's GPA\n",
    "cursor.execute(\"UPDATE Students SET GPA = 4.0 WHERE Student_ID = 1\")\n",
    "conn.commit()\n",
    "\n",
    "# Print after update\n",
    "print(\"\\nAfter updating GPA for student with ID 1:\")\n",
    "cursor.execute(\"SELECT * FROM Students\")\n",
    "results = cursor.fetchall()\n",
    "for result in results:\n",
    "    print(result)"
   ]
  },
  {
   "cell_type": "code",
   "execution_count": 13,
   "id": "86719295",
   "metadata": {},
   "outputs": [
    {
     "name": "stdout",
     "output_type": "stream",
     "text": [
      "\n",
      "After updating name for student with ID 1:\n",
      "(1, 'Safiyya Shamsuddeen', 'MBBS', 4.0)\n",
      "(2, 'Badaru', 'Mathematics', 3.9)\n",
      "(3, 'Hassana', 'Physics', 3.7)\n",
      "(4, 'Dauda', 'Chemistry', 3.6)\n",
      "(5, 'Abubakar', 'Biology', 3.9)\n",
      "(6, 'Faruq', 'History', 3.8)\n",
      "(7, 'Garba', 'Geography', 3.7)\n",
      "(8, 'Habiba', 'English', 3.9)\n",
      "(9, 'Idris', 'Psychology', 3.8)\n",
      "(11, 'Kashim', 'Economics', 3.9)\n",
      "(12, 'Lawisa', 'Political Science', 3.8)\n",
      "(13, 'Maryam', 'Philosophy', 3.7)\n",
      "(14, 'Nuhu', 'Anthropology', 3.9)\n",
      "(15, 'Umar', 'Anthropology', 3.8)\n",
      "(16, 'Usman', 'Anthropology', 3.7)\n",
      "(17, 'Farida', 'Anthropology', 3.9)\n",
      "(18, 'Kabir', 'Anthropology', 3.8)\n",
      "(19, 'Rabiu', 'Anthropology', 3.7)\n",
      "(20, 'Salihu', 'Anthropology', 3.9)\n",
      "(21, 'Tom', 'Anthropology', 3.8)\n",
      "(22, 'Umma', 'Anthropology', 3.7)\n",
      "(23, 'Basira', 'Anthropology', 3.9)\n",
      "(24, 'Wasila', 'Anthropology', 3.8)\n",
      "(25, 'Nazir', 'Anthropology', 3.7)\n",
      "(26, 'Yunusa', 'Anthropology', 3.9)\n",
      "(27, 'Zainab', 'Anthropology', 3.8)\n",
      "(28, 'Adam', 'Anthropology', 3.7)\n",
      "(29, 'Aslamiyya', 'Anthropology', 3.9)\n",
      "(30, 'Sadiq', 'Anthropology', 3.8)\n",
      "(31, 'Aliyu', 'Anthropology', 3.7)\n",
      "(32, 'Abdullahi', 'Anthropology', 3.9)\n",
      "(33, 'Sadiya', 'Anthropology', 3.8)\n",
      "(34, 'Halima', 'Anthropology', 3.7)\n",
      "(35, 'Hannatu', 'Anthropology', 3.9)\n",
      "(36, 'Nasrin', 'Computer Science', 3.95)\n"
     ]
    }
   ],
   "source": [
    "# Update a student's name\n",
    "cursor.execute(\"UPDATE Students SET Name = 'Safiyya Shamsuddeen' WHERE Student_ID = 1\")\n",
    "# Print after update\n",
    "print(\"\\nAfter updating name for student with ID 1:\")\n",
    "cursor.execute(\"SELECT * FROM Students\")\n",
    "results = cursor.fetchall()\n",
    "for result in results:\n",
    "    print(result)  # Print only the Name field"
   ]
  },
  {
   "cell_type": "code",
   "execution_count": 14,
   "id": "7a689577",
   "metadata": {},
   "outputs": [
    {
     "data": {
      "text/plain": [
       "3.81"
      ]
     },
     "execution_count": 14,
     "metadata": {},
     "output_type": "execute_result"
    }
   ],
   "source": [
    "avg_gpa =cursor.execute(\"SELECT AVG(GPA) FROM students\")\n",
    "avg_gpa.fetchone()[0]"
   ]
  },
  {
   "cell_type": "markdown",
   "id": "232bdf21",
   "metadata": {},
   "source": []
  },
  {
   "cell_type": "code",
   "execution_count": 15,
   "id": "301f1714",
   "metadata": {},
   "outputs": [
    {
     "data": {
      "text/plain": [
       "[(14, 'Nuhu', 'Anthropology', 3.9),\n",
       " (15, 'Umar', 'Anthropology', 3.8),\n",
       " (16, 'Usman', 'Anthropology', 3.7),\n",
       " (17, 'Farida', 'Anthropology', 3.9),\n",
       " (18, 'Kabir', 'Anthropology', 3.8),\n",
       " (19, 'Rabiu', 'Anthropology', 3.7),\n",
       " (20, 'Salihu', 'Anthropology', 3.9),\n",
       " (21, 'Tom', 'Anthropology', 3.8),\n",
       " (22, 'Umma', 'Anthropology', 3.7),\n",
       " (23, 'Basira', 'Anthropology', 3.9),\n",
       " (24, 'Wasila', 'Anthropology', 3.8),\n",
       " (25, 'Nazir', 'Anthropology', 3.7),\n",
       " (26, 'Yunusa', 'Anthropology', 3.9),\n",
       " (27, 'Zainab', 'Anthropology', 3.8),\n",
       " (28, 'Adam', 'Anthropology', 3.7),\n",
       " (29, 'Aslamiyya', 'Anthropology', 3.9),\n",
       " (30, 'Sadiq', 'Anthropology', 3.8),\n",
       " (31, 'Aliyu', 'Anthropology', 3.7),\n",
       " (32, 'Abdullahi', 'Anthropology', 3.9),\n",
       " (33, 'Sadiya', 'Anthropology', 3.8),\n",
       " (34, 'Halima', 'Anthropology', 3.7),\n",
       " (35, 'Hannatu', 'Anthropology', 3.9)]"
      ]
     },
     "execution_count": 15,
     "metadata": {},
     "output_type": "execute_result"
    }
   ],
   "source": [
    "course_antropology = cursor.execute(\"SELECT * FROM Students WHERE Course = 'Anthropology'\")\n",
    "course_antropology.fetchall()"
   ]
  },
  {
   "cell_type": "code",
   "execution_count": 16,
   "id": "979db373",
   "metadata": {},
   "outputs": [
    {
     "data": {
      "text/plain": [
       "[(1, 'Safiyya Shamsuddeen', 'MBBS', 4.0),\n",
       " (36, 'Nasrin', 'Computer Science', 3.95),\n",
       " (2, 'Badaru', 'Mathematics', 3.9),\n",
       " (5, 'Abubakar', 'Biology', 3.9),\n",
       " (8, 'Habiba', 'English', 3.9),\n",
       " (11, 'Kashim', 'Economics', 3.9),\n",
       " (14, 'Nuhu', 'Anthropology', 3.9),\n",
       " (17, 'Farida', 'Anthropology', 3.9),\n",
       " (20, 'Salihu', 'Anthropology', 3.9),\n",
       " (23, 'Basira', 'Anthropology', 3.9),\n",
       " (26, 'Yunusa', 'Anthropology', 3.9),\n",
       " (29, 'Aslamiyya', 'Anthropology', 3.9),\n",
       " (32, 'Abdullahi', 'Anthropology', 3.9),\n",
       " (35, 'Hannatu', 'Anthropology', 3.9),\n",
       " (6, 'Faruq', 'History', 3.8),\n",
       " (9, 'Idris', 'Psychology', 3.8),\n",
       " (12, 'Lawisa', 'Political Science', 3.8),\n",
       " (15, 'Umar', 'Anthropology', 3.8),\n",
       " (18, 'Kabir', 'Anthropology', 3.8),\n",
       " (21, 'Tom', 'Anthropology', 3.8),\n",
       " (24, 'Wasila', 'Anthropology', 3.8),\n",
       " (27, 'Zainab', 'Anthropology', 3.8),\n",
       " (30, 'Sadiq', 'Anthropology', 3.8),\n",
       " (33, 'Sadiya', 'Anthropology', 3.8),\n",
       " (3, 'Hassana', 'Physics', 3.7),\n",
       " (7, 'Garba', 'Geography', 3.7),\n",
       " (13, 'Maryam', 'Philosophy', 3.7),\n",
       " (16, 'Usman', 'Anthropology', 3.7),\n",
       " (19, 'Rabiu', 'Anthropology', 3.7),\n",
       " (22, 'Umma', 'Anthropology', 3.7),\n",
       " (25, 'Nazir', 'Anthropology', 3.7),\n",
       " (28, 'Adam', 'Anthropology', 3.7),\n",
       " (31, 'Aliyu', 'Anthropology', 3.7),\n",
       " (34, 'Halima', 'Anthropology', 3.7),\n",
       " (4, 'Dauda', 'Chemistry', 3.6)]"
      ]
     },
     "execution_count": 16,
     "metadata": {},
     "output_type": "execute_result"
    }
   ],
   "source": [
    "sort_by_gpa = cursor.execute(\"SELECT * FROM Students ORDER BY GPA DESC\")\n",
    "sort_by_gpa.fetchall()"
   ]
  },
  {
   "cell_type": "code",
   "execution_count": 17,
   "id": "9e3c0359",
   "metadata": {},
   "outputs": [
    {
     "data": {
      "text/plain": [
       "[(1, 'Safiyya Shamsuddeen', 'MBBS', 4.0),\n",
       " (2, 'Badaru', 'Mathematics', 3.9),\n",
       " (3, 'Hassana', 'Physics', 3.7),\n",
       " (4, 'Dauda', 'Chemistry', 3.6),\n",
       " (5, 'Abubakar', 'Biology', 3.9)]"
      ]
     },
     "execution_count": 17,
     "metadata": {},
     "output_type": "execute_result"
    }
   ],
   "source": [
    "limit_5 = cursor.execute(\"SELECT * FROM Students LIMIT 5\")\n",
    "limit_5.fetchall()"
   ]
  },
  {
   "cell_type": "code",
   "execution_count": 18,
   "id": "0880ef71",
   "metadata": {},
   "outputs": [
    {
     "data": {
      "text/plain": [
       "[('Anthropology', 3.8045454545454547),\n",
       " ('Biology', 3.9),\n",
       " ('Chemistry', 3.6),\n",
       " ('Computer Science', 3.95),\n",
       " ('Economics', 3.9),\n",
       " ('English', 3.9),\n",
       " ('Geography', 3.7),\n",
       " ('History', 3.8),\n",
       " ('MBBS', 4.0),\n",
       " ('Mathematics', 3.9),\n",
       " ('Philosophy', 3.7),\n",
       " ('Physics', 3.7),\n",
       " ('Political Science', 3.8),\n",
       " ('Psychology', 3.8)]"
      ]
     },
     "execution_count": 18,
     "metadata": {},
     "output_type": "execute_result"
    }
   ],
   "source": [
    "group_by_course = cursor.execute(\"SELECT Course, AVG(GPA) as Average_GPA FROM Students GROUP BY Course\")\n",
    "group_by_course.fetchall()"
   ]
  },
  {
   "cell_type": "code",
   "execution_count": 19,
   "id": "66869467",
   "metadata": {},
   "outputs": [
    {
     "data": {
      "text/plain": [
       "[(3.81,)]"
      ]
     },
     "execution_count": 19,
     "metadata": {},
     "output_type": "execute_result"
    }
   ],
   "source": [
    "round_gpa = cursor.execute(\"SELECT ROUND(AVG(GPA), 2) FROM Students\")  # \n",
    "round_gpa.fetchall()  # Round to 2 decimal places"
   ]
  },
  {
   "cell_type": "code",
   "execution_count": 20,
   "id": "7cc097bf",
   "metadata": {},
   "outputs": [
    {
     "data": {
      "text/plain": [
       "[('MBBS', 1, 4.0),\n",
       " ('Computer Science', 1, 3.95),\n",
       " ('Mathematics', 1, 3.9),\n",
       " ('English', 1, 3.9),\n",
       " ('Economics', 1, 3.9)]"
      ]
     },
     "execution_count": 20,
     "metadata": {},
     "output_type": "execute_result"
    }
   ],
   "source": [
    "# Bringing it all together\n",
    "cursor.execute(\"\"\"SELECT Course, COUNT(*) as Number_of_Students, ROUND(AVG(GPA), 2) as Average_GPA\n",
    "                  FROM Students\n",
    "                  GROUP BY Course\n",
    "                  ORDER BY Average_GPA DESC\n",
    "                  LIMIT 5\"\"\")\n",
    "results = cursor.fetchall()\n",
    "results"
   ]
  }
 ],
 "metadata": {
  "kernelspec": {
   "display_name": "Python 3",
   "language": "python",
   "name": "python3"
  },
  "language_info": {
   "codemirror_mode": {
    "name": "ipython",
    "version": 3
   },
   "file_extension": ".py",
   "mimetype": "text/x-python",
   "name": "python",
   "nbconvert_exporter": "python",
   "pygments_lexer": "ipython3",
   "version": "3.13.7"
  }
 },
 "nbformat": 4,
 "nbformat_minor": 5
}
