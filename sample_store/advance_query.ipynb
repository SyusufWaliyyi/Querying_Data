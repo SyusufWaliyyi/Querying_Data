{
 "cells": [
  {
   "cell_type": "code",
   "execution_count": 16,
   "id": "ee4cdaaf",
   "metadata": {},
   "outputs": [],
   "source": [
    "import sqlite3\n",
    "from tabulate import tabulate"
   ]
  },
  {
   "cell_type": "code",
   "execution_count": 17,
   "id": "6f82fab8",
   "metadata": {},
   "outputs": [
    {
     "name": "stdout",
     "output_type": "stream",
     "text": [
      "╒════════════╤═══════╤══════════╤════════╤════════════════╤════════════════╤═══════════════════╤═══════════╤══════════════════╤════════════════════╤════════════════╤═════════════════════╤══════════════════╤═════════════╤══════════════╤══════════╤════════╤═══════════╕\n",
      "│ Date       │ Day   │ Month    │ Year   │   Customer_Age │ Age_Group      │ Customer_Gender   │ Country   │ State            │ Product_Category   │ Sub_Category   │ Product             │ Order_Quantity   │ Unit_Cost   │ Unit_Price   │ Profit   │ Cost   │ Revenue   │\n",
      "╞════════════╪═══════╪══════════╪════════╪════════════════╪════════════════╪═══════════════════╪═══════════╪══════════════════╪════════════════════╪════════════════╪═════════════════════╪══════════════════╪═════════════╪══════════════╪══════════╪════════╪═══════════╡\n",
      "│ Date       │ Day   │ Month    │ Year   │             10 │ Age_Group      │ Customer_Gender   │ Country   │ State            │ Product_Category   │ Sub_Category   │ Product             │ Order_Quantity   │ Unit_Cost   │ Unit_Price   │ Profit   │ Cost   │ Revenue   │\n",
      "├────────────┼───────┼──────────┼────────┼────────────────┼────────────────┼───────────────────┼───────────┼──────────────────┼────────────────────┼────────────────┼─────────────────────┼──────────────────┼─────────────┼──────────────┼──────────┼────────┼───────────┤\n",
      "│ 11/26/2013 │ 26    │ November │ 2013   │             29 │ Youth (<25)    │ Male              │ Canada    │ British Columbia │ Accessories        │ Bike Racks     │ Hitch Rack - 4-Bike │ 8                │ 45          │ 120          │ 590      │ 360    │ 950       │\n",
      "├────────────┼───────┼──────────┼────────┼────────────────┼────────────────┼───────────────────┼───────────┼──────────────────┼────────────────────┼────────────────┼─────────────────────┼──────────────────┼─────────────┼──────────────┼──────────┼────────┼───────────┤\n",
      "│ 11/26/2015 │ 26    │ November │ 2015   │             29 │ Youth (<25)    │ Male              │ Canada    │ British Columbia │ Accessories        │ Bike Racks     │ Hitch Rack - 4-Bike │ 8                │ 45          │ 120          │ 590      │ 360    │ 950       │\n",
      "├────────────┼───────┼──────────┼────────┼────────────────┼────────────────┼───────────────────┼───────────┼──────────────────┼────────────────────┼────────────────┼─────────────────────┼──────────────────┼─────────────┼──────────────┼──────────┼────────┼───────────┤\n",
      "│ 3/23/2014  │ 23    │ March    │ 2014   │             59 │ Adults (35-64) │ Male              │ Australia │ New South Wales  │ Accessories        │ Bike Racks     │ Hitch Rack - 4-Bike │ 23               │ 45          │ 120          │ 1366     │ 1035   │ 2401      │\n",
      "├────────────┼───────┼──────────┼────────┼────────────────┼────────────────┼───────────────────┼───────────┼──────────────────┼────────────────────┼────────────────┼─────────────────────┼──────────────────┼─────────────┼──────────────┼──────────┼────────┼───────────┤\n",
      "│ 3/23/2016  │ 23    │ March    │ 2016   │             59 │ Adults (35-64) │ Male              │ Australia │ New South Wales  │ Accessories        │ Bike Racks     │ Hitch Rack - 4-Bike │ 20               │ 45          │ 120          │ 1188     │ 900    │ 2088      │\n",
      "╘════════════╧═══════╧══════════╧════════╧════════════════╧════════════════╧═══════════════════╧═══════════╧══════════════════╧════════════════════╧════════════════╧═════════════════════╧══════════════════╧═════════════╧══════════════╧══════════╧════════╧═══════════╛\n"
     ]
    }
   ],
   "source": [
    "# Connect to the local database file\n",
    "conn = sqlite3.connect('sales.db')  # Replace with your actual file name\n",
    "cursor = conn.cursor()\n",
    "\n",
    "# Read data from the table\n",
    "cursor.execute(\"SELECT * FROM sales LIMIT 5;\") \n",
    "rows = cursor.fetchall()\n",
    "\n",
    "# Get column names\n",
    "header = [description[0] for description in cursor.description]\n",
    "# Print the results in a tabular format\n",
    "print(tabulate(rows, headers=header, tablefmt='fancy_grid'))\n"
   ]
  },
  {
   "cell_type": "markdown",
   "id": "9d3ba1f7",
   "metadata": {},
   "source": [
    "SINGLE LINE QUERY"
   ]
  },
  {
   "cell_type": "code",
   "execution_count": 38,
   "id": "16b8d150",
   "metadata": {},
   "outputs": [
    {
     "name": "stdout",
     "output_type": "stream",
     "text": [
      "╒════════════════╕\n",
      "│   Average Cost │\n",
      "╞════════════════╡\n",
      "│        469.319 │\n",
      "╘════════════════╛\n"
     ]
    }
   ],
   "source": [
    "# Single line query\n",
    "cursor.execute(\"SELECT AVG(Cost) FROM sales\")\n",
    "rows = cursor.fetchall()\n",
    "print(tabulate(rows, headers=['Average Cost'], tablefmt='fancy_grid'))"
   ]
  },
  {
   "cell_type": "markdown",
   "id": "9b6091e1",
   "metadata": {},
   "source": [
    "The query output the average cost of the items"
   ]
  },
  {
   "cell_type": "code",
   "execution_count": 40,
   "id": "ee72fada",
   "metadata": {},
   "outputs": [
    {
     "name": "stdout",
     "output_type": "stream",
     "text": [
      "╒═══════════╤════════╕\n",
      "│ Country   │ Cost   │\n",
      "╞═══════════╪════════╡\n",
      "│ Country   │ Cost   │\n",
      "├───────────┼────────┤\n",
      "│ Canada    │ 360    │\n",
      "├───────────┼────────┤\n",
      "│ Canada    │ 360    │\n",
      "├───────────┼────────┤\n",
      "│ Australia │ 1035   │\n",
      "├───────────┼────────┤\n",
      "│ Australia │ 900    │\n",
      "╘═══════════╧════════╛\n"
     ]
    }
   ],
   "source": [
    "# Second line query\n",
    "cursor.execute(\"SELECT Country, Cost FROM sales LIMIT 5\")\n",
    "rows = cursor.fetchall()\n",
    "print(tabulate(rows, headers=['Country', 'Cost'], tablefmt='fancy_grid'))"
   ]
  },
  {
   "cell_type": "markdown",
   "id": "65f4e4fd",
   "metadata": {},
   "source": [
    "SINGLE LINE SUBQUERY"
   ]
  },
  {
   "cell_type": "code",
   "execution_count": 45,
   "id": "2465b9c0",
   "metadata": {},
   "outputs": [
    {
     "name": "stdout",
     "output_type": "stream",
     "text": [
      "╒═══════════╤════════╕\n",
      "│ Country   │ Cost   │\n",
      "╞═══════════╪════════╡\n",
      "│ Country   │ Cost   │\n",
      "├───────────┼────────┤\n",
      "│ Canada    │ 360    │\n",
      "├───────────┼────────┤\n",
      "│ Canada    │ 360    │\n",
      "├───────────┼────────┤\n",
      "│ Australia │ 1035   │\n",
      "├───────────┼────────┤\n",
      "│ Australia │ 900    │\n",
      "╘═══════════╧════════╛\n"
     ]
    }
   ],
   "source": [
    "# Single line subquery to fetch top 5 records from the sales table\n",
    "cursor.execute(\"\"\"\n",
    "    SELECT Country, Cost \n",
    "    FROM sales\n",
    "    WHERE Cost > (SELECT AVG(Cost) FROM sales) LIMIT 5;\"\"\")\n",
    "rows = cursor.fetchall()\n",
    "print(tabulate(rows, headers=['Country', 'Cost'], tablefmt='fancy_grid'))"
   ]
  },
  {
   "cell_type": "markdown",
   "id": "da7ebe9c",
   "metadata": {},
   "source": [
    "MULTIPLE LINES SUBQUERY"
   ]
  },
  {
   "cell_type": "code",
   "execution_count": 34,
   "id": "68eea52a",
   "metadata": {},
   "outputs": [
    {
     "name": "stdout",
     "output_type": "stream",
     "text": [
      "╒═══════════╤════════╕\n",
      "│ Country   │ Cost   │\n",
      "╞═══════════╪════════╡\n",
      "│ Country   │ Cost   │\n",
      "├───────────┼────────┤\n",
      "│ Canada    │ 360    │\n",
      "├───────────┼────────┤\n",
      "│ Canada    │ 360    │\n",
      "├───────────┼────────┤\n",
      "│ Australia │ 1035   │\n",
      "├───────────┼────────┤\n",
      "│ Australia │ 900    │\n",
      "╘═══════════╧════════╛\n"
     ]
    }
   ],
   "source": [
    "# Single line subquery to fetch top 5 records from the sales table\n",
    "cursor.execute(\"\"\"\n",
    "    SELECT Country, Cost \n",
    "    FROM sales\n",
    "    WHERE Cost > (SELECT AVG(Cost) \n",
    "    FROM sales\n",
    "    GROUP BY Country\n",
    "    HAVING Country = 'United States') LIMIT 5;\"\"\")\n",
    "rows = cursor.fetchall()\n",
    "print(tabulate(rows, headers=['Country', 'Cost'], tablefmt='fancy_grid'))"
   ]
  },
  {
   "cell_type": "markdown",
   "id": "d1ade3ce",
   "metadata": {},
   "source": [
    "The subquery will output the avearge cost of items grouped by country"
   ]
  },
  {
   "cell_type": "markdown",
   "id": "e8dabe66",
   "metadata": {},
   "source": [
    "USING CTE"
   ]
  },
  {
   "cell_type": "code",
   "execution_count": 18,
   "id": "a3635f98",
   "metadata": {},
   "outputs": [
    {
     "name": "stdout",
     "output_type": "stream",
     "text": [
      "╒════════════════════╤═════════════════╤════════════════╕\n",
      "│ Product_Category   │    Total_Profit │    Total_Sales │\n",
      "╞════════════════════╪═════════════════╪════════════════╡\n",
      "│ Bikes              │     6.17821e+07 │    2.05193e+07 │\n",
      "├────────────────────┼─────────────────┼────────────────┤\n",
      "│ Accessories        │     1.5118e+07  │    8.86238e+06 │\n",
      "├────────────────────┼─────────────────┼────────────────┤\n",
      "│ Clothing           │     8.37088e+06 │    2.83945e+06 │\n",
      "├────────────────────┼─────────────────┼────────────────┤\n",
      "│ Furniture          │ 19500           │ 9600           │\n",
      "├────────────────────┼─────────────────┼────────────────┤\n",
      "│ Product_Category   │     0           │    0           │\n",
      "╘════════════════════╧═════════════════╧════════════════╛\n"
     ]
    }
   ],
   "source": [
    "# Using CTE to create a temporary result set\n",
    "cursor.execute(\"\"\"\n",
    "    WITH Top_Revenue AS (\n",
    "        SELECT Product_Category, SUM(Revenue) AS Total_Revenue, \n",
    "        SUM(Profit) AS Total_Profit\n",
    "        FROM sales\n",
    "        GROUP BY Product_Category\n",
    "        ORDER BY total_revenue DESC\n",
    "        LIMIT 5\n",
    "    )\n",
    "    SELECT * FROM Top_Revenue\n",
    "\"\"\")\n",
    "rows = cursor.fetchall()\n",
    "print(tabulate(rows, headers=['Product_Category', 'Total_Profit', 'Total_Sales', 'Total_Revenue'], tablefmt='fancy_grid'))\n"
   ]
  },
  {
   "cell_type": "code",
   "execution_count": null,
   "id": "52f256bd",
   "metadata": {},
   "outputs": [],
   "source": []
  }
 ],
 "metadata": {
  "kernelspec": {
   "display_name": "Python 3",
   "language": "python",
   "name": "python3"
  },
  "language_info": {
   "codemirror_mode": {
    "name": "ipython",
    "version": 3
   },
   "file_extension": ".py",
   "mimetype": "text/x-python",
   "name": "python",
   "nbconvert_exporter": "python",
   "pygments_lexer": "ipython3",
   "version": "3.13.7"
  }
 },
 "nbformat": 4,
 "nbformat_minor": 5
}
