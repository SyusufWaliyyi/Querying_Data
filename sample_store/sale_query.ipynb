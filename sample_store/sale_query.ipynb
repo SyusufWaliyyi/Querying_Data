{
 "cells": [
  {
   "cell_type": "code",
   "execution_count": 1,
   "id": "21c4e5cf",
   "metadata": {},
   "outputs": [],
   "source": [
    "import sqlite3\n",
    "import csv\n",
    "from tabulate import tabulate"
   ]
  },
  {
   "cell_type": "markdown",
   "id": "b1cc6374",
   "metadata": {},
   "source": [
    "Establish connection"
   ]
  },
  {
   "cell_type": "code",
   "execution_count": 2,
   "id": "83a88467",
   "metadata": {},
   "outputs": [
    {
     "data": {
      "text/plain": [
       "<sqlite3.Cursor at 0x1c26fd34840>"
      ]
     },
     "execution_count": 2,
     "metadata": {},
     "output_type": "execute_result"
    }
   ],
   "source": [
    "# Make a connection to SQLite database (or create it)\n",
    "conn = sqlite3.connect('sales.db')\n",
    "cursor = conn.cursor()\n",
    "\n",
    "# Create table (adjust columns to match your CSV)\n",
    "cursor.execute('''\n",
    "    CREATE TABLE IF NOT EXISTS sales (\n",
    "        Date, Day, Month, Year, Customer_Age, Age_Group,\t\n",
    "        Customer_Gender, Country, State, Product_Category,\n",
    "        Sub_Category, Product, Order_Quantity, Unit_Cost,\n",
    "        Unit_Price, Profit, Cost, Revenue\n",
    "    )\n",
    "''')"
   ]
  },
  {
   "cell_type": "markdown",
   "id": "45c6f742",
   "metadata": {},
   "source": [
    "Load the csv file"
   ]
  },
  {
   "cell_type": "code",
   "execution_count": 3,
   "id": "07ea651e",
   "metadata": {},
   "outputs": [],
   "source": [
    "# Load data from CSV file\n",
    "with open('sales_data.csv', 'r') as file:\n",
    "    reader = csv.reader(file)\n",
    "    for row in reader:\n",
    "        cursor.execute('INSERT INTO sales VALUES (?,?,?,?,?,?,?,?,?,?,?,?,?,?,?,?,?,?)', row)\n",
    "conn.commit()"
   ]
  },
  {
   "cell_type": "code",
   "execution_count": 17,
   "id": "d8ab2cad",
   "metadata": {},
   "outputs": [
    {
     "name": "stdout",
     "output_type": "stream",
     "text": [
      "Date        Day    Month     Year    Customer_Age    Age_Group       Customer_Gender    Country    State             Product_Category    Sub_Category    Product              Order_Quantity    Unit_Cost    Unit_Price    Profit    Cost    Revenue\n",
      "----------  -----  --------  ------  --------------  --------------  -----------------  ---------  ----------------  ------------------  --------------  -------------------  ----------------  -----------  ------------  --------  ------  ---------\n",
      "Date        Day    Month     Year    Customer_Age    Age_Group       Customer_Gender    Country    State             Product_Category    Sub_Category    Product              Order_Quantity    Unit_Cost    Unit_Price    Profit    Cost    Revenue\n",
      "11/26/2013  26     November  2013    19              Youth (<25)     M                  Canada     British Columbia  Accessories         Bike Racks      Hitch Rack - 4-Bike  8                 45           120           590       360     950\n",
      "11/26/2015  26     November  2015    19              Youth (<25)     M                  Canada     British Columbia  Accessories         Bike Racks      Hitch Rack - 4-Bike  8                 45           120           590       360     950\n",
      "3/23/2014   23     March     2014    49              Adults (35-64)  M                  Australia  New South Wales   Accessories         Bike Racks      Hitch Rack - 4-Bike  23                45           120           1366      1035    2401\n",
      "3/23/2016   23     March     2016    49              Adults (35-64)  M                  Australia  New South Wales   Accessories         Bike Racks      Hitch Rack - 4-Bike  20                45           120           1188      900     2088\n"
     ]
    }
   ],
   "source": [
    "# display first 5 rows\n",
    "cursor.execute('SELECT * FROM sales LIMIT 5')\n",
    "rows = cursor.fetchall()\n",
    "column_names = [description[0] for description in cursor.description]\n",
    "print(tabulate(rows, headers=column_names))"
   ]
  },
  {
   "cell_type": "code",
   "execution_count": 117,
   "id": "42a3bf20",
   "metadata": {},
   "outputs": [
    {
     "name": "stdout",
     "output_type": "stream",
     "text": [
      "Column 'Date' has 0 missing values.\n",
      "Column 'Day' has 0 missing values.\n",
      "Column 'Month' has 0 missing values.\n",
      "Column 'Year' has 0 missing values.\n",
      "Column 'Customer_Age' has 0 missing values.\n",
      "Column 'Age_Group' has 0 missing values.\n",
      "Column 'Customer_Gender' has 0 missing values.\n",
      "Column 'Country' has 0 missing values.\n",
      "Column 'State' has 0 missing values.\n",
      "Column 'Product_Category' has 0 missing values.\n",
      "Column 'Sub_Category' has 0 missing values.\n",
      "Column 'Product' has 0 missing values.\n",
      "Column 'Order_Quantity' has 0 missing values.\n",
      "Column 'Unit_Cost' has 0 missing values.\n",
      "Column 'Unit_Price' has 0 missing values.\n",
      "Column 'Profit' has 0 missing values.\n",
      "Column 'Cost' has 0 missing values.\n",
      "Column 'Revenue' has 0 missing values.\n"
     ]
    }
   ],
   "source": [
    "# Check all columns for any missing values\n",
    "cursor.execute('PRAGMA table_info(sales)')\n",
    "columns = cursor.fetchall()\n",
    "for column in columns:\n",
    "    col_name = column[1]\n",
    "    cursor.execute(f'SELECT COUNT(*) FROM sales WHERE {col_name} IS NULL OR {col_name} = \"\"')\n",
    "    missing_count = cursor.fetchone()[0]\n",
    "    print(f\"Column '{col_name}' has {missing_count} missing values.\")"
   ]
  },
  {
   "cell_type": "code",
   "execution_count": 119,
   "id": "304b0a3d",
   "metadata": {},
   "outputs": [
    {
     "name": "stdout",
     "output_type": "stream",
     "text": [
      "Customer_Gender\n",
      "-----------------\n",
      "Customer_Gender\n",
      "Male\n",
      "Female\n"
     ]
    }
   ],
   "source": [
    "# Map F to Female and M to Male in Customer_Gender column\n",
    "cursor.execute('UPDATE sales SET Customer_Gender = \"Female\" WHERE Customer_Gender = \"F\"')\n",
    "cursor.execute('UPDATE sales SET Customer_Gender = \"Male\" WHERE Customer_Gender = \"M\"')\n",
    "conn.commit()\n",
    "\n",
    "# Verify the changes\n",
    "cursor.execute('SELECT DISTINCT Customer_Gender FROM sales')\n",
    "rows = cursor.fetchall()\n",
    "print(tabulate(rows, headers=['Customer_Gender']))"
   ]
  },
  {
   "cell_type": "markdown",
   "id": "63039c07",
   "metadata": {},
   "source": [
    "Sorting by Single Column"
   ]
  },
  {
   "cell_type": "code",
   "execution_count": 18,
   "id": "e178b896",
   "metadata": {},
   "outputs": [
    {
     "name": "stdout",
     "output_type": "stream",
     "text": [
      "Date        Day    Month     Year    Customer_Age    Age_Group             Customer_Gender    Country    State     Product_Category    Sub_Category     Product                  Order_Quantity    Unit_Cost    Unit_Price    Profit    Cost    Revenue\n",
      "----------  -----  --------  ------  --------------  --------------------  -----------------  ---------  --------  ------------------  ---------------  -----------------------  ----------------  -----------  ------------  --------  ------  ---------\n",
      "Date        Day    Month     Year    Customer_Age    Age_Group             Customer_Gender    Country    State     Product_Category    Sub_Category     Product                  Order_Quantity    Unit_Cost    Unit_Price    Profit    Cost    Revenue\n",
      "2/28/2016   28     February  2016    34              Young Adults (25-34)  M                  Australia  Victoria  Accessories         Hydration Packs  Hydration Pack - 70 oz.  23                21           55            516       483     999\n",
      "4/3/2016    3      April     2016    33              Young Adults (25-34)  M                  Australia  Victoria  Accessories         Hydration Packs  Hydration Pack - 70 oz.  23                21           55            516       483     999\n",
      "12/26/2013  26     December  2013    37              Adults (35-64)        F                  Australia  Victoria  Accessories         Hydration Packs  Hydration Pack - 70 oz.  23                21           55            516       483     999\n",
      "8/26/2015   26     August    2015    19              Youth (<25)           M                  Australia  Victoria  Accessories         Hydration Packs  Hydration Pack - 70 oz.  23                21           55            516       483     999\n"
     ]
    }
   ],
   "source": [
    "# Sort by Revenue in descending order and display top 5 rows\n",
    "cursor.execute('SELECT * FROM sales ORDER BY Revenue DESC LIMIT 5')\n",
    "rows = cursor.fetchall()\n",
    "print(tabulate(rows, headers=column_names))"
   ]
  },
  {
   "cell_type": "code",
   "execution_count": 19,
   "id": "bf73a747",
   "metadata": {},
   "outputs": [
    {
     "name": "stdout",
     "output_type": "stream",
     "text": [
      "Date         Day  Month      Year    Customer_Age  Age_Group             Customer_Gender    Country    State             Product_Category    Sub_Category       Product                  Order_Quantity    Unit_Cost    Unit_Price    Profit    Cost    Revenue\n",
      "---------  -----  -------  ------  --------------  --------------------  -----------------  ---------  ----------------  ------------------  -----------------  ---------------------  ----------------  -----------  ------------  --------  ------  ---------\n",
      "10/2/2013      2  October    2013              29  Young Adults (25-34)  F                  Canada     British Columbia  Accessories         Bottles and Cages  Water Bottle - 30 oz.                 2            2             5         6       4         10\n",
      "6/28/2016     28  June       2016              44  Adults (35-64)        M                  Canada     British Columbia  Accessories         Bottles and Cages  Water Bottle - 30 oz.                 2            2             5         6       4         10\n",
      "6/22/2014     22  June       2014              31  Young Adults (25-34)  F                  Canada     British Columbia  Accessories         Bottles and Cages  Water Bottle - 30 oz.                 2            2             5         6       4         10\n",
      "7/17/2016     17  July       2016              31  Young Adults (25-34)  F                  Canada     British Columbia  Accessories         Bottles and Cages  Water Bottle - 30 oz.                 2            2             5         6       4         10\n",
      "6/11/2014     11  June       2014              73  Seniors (64+)         F                  Canada     British Columbia  Accessories         Bottles and Cages  Mountain Bottle Cage                  1            4            10         6       4         10\n"
     ]
    }
   ],
   "source": [
    "# Sort by Revenue in ascending order and display top 5 rows\n",
    "cursor.execute('SELECT * FROM sales ORDER BY Revenue ASC LIMIT 5')\n",
    "rows = cursor.fetchall()\n",
    "print(tabulate(rows, headers=column_names))"
   ]
  },
  {
   "cell_type": "code",
   "execution_count": 20,
   "id": "e34e0bcd",
   "metadata": {},
   "outputs": [
    {
     "name": "stdout",
     "output_type": "stream",
     "text": [
      "Date         Day  Month      Year    Customer_Age  Age_Group             Customer_Gender    Country    State             Product_Category    Sub_Category       Product                  Order_Quantity    Unit_Cost    Unit_Price    Profit    Cost    Revenue\n",
      "---------  -----  -------  ------  --------------  --------------------  -----------------  ---------  ----------------  ------------------  -----------------  ---------------------  ----------------  -----------  ------------  --------  ------  ---------\n",
      "10/2/2013      2  October    2013              29  Young Adults (25-34)  F                  Canada     British Columbia  Accessories         Bottles and Cages  Water Bottle - 30 oz.                 2            2             5         6       4         10\n",
      "6/28/2016     28  June       2016              44  Adults (35-64)        M                  Canada     British Columbia  Accessories         Bottles and Cages  Water Bottle - 30 oz.                 2            2             5         6       4         10\n",
      "6/22/2014     22  June       2014              31  Young Adults (25-34)  F                  Canada     British Columbia  Accessories         Bottles and Cages  Water Bottle - 30 oz.                 2            2             5         6       4         10\n",
      "7/17/2016     17  July       2016              31  Young Adults (25-34)  F                  Canada     British Columbia  Accessories         Bottles and Cages  Water Bottle - 30 oz.                 2            2             5         6       4         10\n",
      "6/11/2014     11  June       2014              73  Seniors (64+)         F                  Canada     British Columbia  Accessories         Bottles and Cages  Mountain Bottle Cage                  1            4            10         6       4         10\n"
     ]
    }
   ],
   "source": [
    "# Sort by Revenue in ascending order and display top 5 rows\n",
    "cursor.execute('SELECT * FROM sales ORDER BY Revenue ASC LIMIT 5')\n",
    "rows = cursor.fetchall()\n",
    "print(tabulate(rows, headers=column_names))"
   ]
  },
  {
   "cell_type": "markdown",
   "id": "acf4313c",
   "metadata": {},
   "source": [
    "Sorting by Multiple Columns"
   ]
  },
  {
   "cell_type": "code",
   "execution_count": 21,
   "id": "bbad892f",
   "metadata": {},
   "outputs": [
    {
     "name": "stdout",
     "output_type": "stream",
     "text": [
      "Date       Day    Month     Year    Customer_Age    Age_Group       Customer_Gender    Country    State    Product_Category    Sub_Category    Product                Order_Quantity    Unit_Cost    Unit_Price    Profit    Cost    Revenue\n",
      "---------  -----  --------  ------  --------------  --------------  -----------------  ---------  -------  ------------------  --------------  ---------------------  ----------------  -----------  ------------  --------  ------  ---------\n",
      "Date       Day    Month     Year    Customer_Age    Age_Group       Customer_Gender    Country    State    Product_Category    Sub_Category    Product                Order_Quantity    Unit_Cost    Unit_Price    Profit    Cost    Revenue\n",
      "8/10/2012  10     August    2012    41              Adults (35-64)  F                  Germany    Hessen   Bikes               Road Bikes      Road-350-W Yellow, 48  2                 1083         1701          998       2166    3164\n",
      "6/6/2016   6      June      2016    41              Adults (35-64)  F                  Germany    Hessen   Bikes               Road Bikes      Road-350-W Yellow, 48  2                 1083         1701          998       2166    3164\n",
      "7/1/2012   1      July      2012    23              Youth (<25)     F                  Germany    Hamburg  Bikes               Road Bikes      Road-350-W Yellow, 40  2                 1083         1701          998       2166    3164\n",
      "2/19/2015  19     February  2015    23              Youth (<25)     F                  Germany    Hamburg  Bikes               Road Bikes      Road-350-W Yellow, 40  2                 1083         1701          998       2166    3164\n"
     ]
    }
   ],
   "source": [
    "# Sort by Profit descending Revenue in ascending order\n",
    "# Sort by Revenue in ascending order and display top 5 rows\n",
    "cursor.execute('SELECT * FROM sales ORDER BY Profit DESC, Revenue ASC LIMIT 5')\n",
    "rows = cursor.fetchall()\n",
    "print(tabulate(rows, headers=column_names))"
   ]
  },
  {
   "cell_type": "code",
   "execution_count": 22,
   "id": "25c7f286",
   "metadata": {},
   "outputs": [
    {
     "name": "stdout",
     "output_type": "stream",
     "text": [
      "Date        Day    Month     Year    Customer_Age    Age_Group             Customer_Gender    Country    State     Product_Category    Sub_Category     Product                  Order_Quantity    Unit_Cost    Unit_Price    Profit    Cost    Revenue\n",
      "----------  -----  --------  ------  --------------  --------------------  -----------------  ---------  --------  ------------------  ---------------  -----------------------  ----------------  -----------  ------------  --------  ------  ---------\n",
      "Date        Day    Month     Year    Customer_Age    Age_Group             Customer_Gender    Country    State     Product_Category    Sub_Category     Product                  Order_Quantity    Unit_Cost    Unit_Price    Profit    Cost    Revenue\n",
      "12/26/2013  26     December  2013    37              Adults (35-64)        F                  Australia  Victoria  Accessories         Hydration Packs  Hydration Pack - 70 oz.  23                21           55            516       483     999\n",
      "12/14/2015  14     December  2015    60              Adults (35-64)        M                  Australia  Victoria  Accessories         Hydration Packs  Hydration Pack - 70 oz.  23                21           55            516       483     999\n",
      "2/28/2016   28     February  2016    34              Young Adults (25-34)  M                  Australia  Victoria  Accessories         Hydration Packs  Hydration Pack - 70 oz.  23                21           55            516       483     999\n",
      "4/3/2016    3      April     2016    33              Young Adults (25-34)  M                  Australia  Victoria  Accessories         Hydration Packs  Hydration Pack - 70 oz.  23                21           55            516       483     999\n"
     ]
    }
   ],
   "source": [
    "# Sort by Revenue in descending order and age_group in ascending display top 5 rows\n",
    "cursor.execute('SELECT * FROM sales ORDER BY Revenue DESC, Age_group ASC LIMIT 5')\n",
    "rows = cursor.fetchall()\n",
    "print(tabulate(rows, headers=column_names))"
   ]
  },
  {
   "cell_type": "markdown",
   "id": "62c729c2",
   "metadata": {},
   "source": [
    "Using Limit with OFFSET"
   ]
  },
  {
   "cell_type": "code",
   "execution_count": 23,
   "id": "c7440977",
   "metadata": {},
   "outputs": [
    {
     "name": "stdout",
     "output_type": "stream",
     "text": [
      "Date         Day  Month      Year    Customer_Age  Age_Group             Customer_Gender    Country    State           Product_Category    Sub_Category    Product                           Order_Quantity    Unit_Cost    Unit_Price    Profit    Cost    Revenue\n",
      "---------  -----  -------  ------  --------------  --------------------  -----------------  ---------  --------------  ------------------  --------------  ------------------------------  ----------------  -----------  ------------  --------  ------  ---------\n",
      "4/26/2011     26  April      2011              29  Young Adults (25-34)  M                  France     Hauts de Seine  Bikes               Road Bikes      Road-150 Red, 62                               3         2171          3578      3470    6513       9983\n",
      "5/27/2016     27  May        2016              29  Young Adults (25-34)  M                  Germany    Hamburg         Bikes               Road Bikes      Road-150 Red, 44                               3         2171          3578      3470    6513       9983\n",
      "5/1/2016       1  May        2016              30  Young Adults (25-34)  M                  Germany    Hessen          Bikes               Road Bikes      Road-150 Red, 62                               3         2171          3578      3470    6513       9983\n",
      "4/4/2011       4  April      2011              34  Young Adults (25-34)  M                  Germany    Hessen          Bikes               Road Bikes      Road-150 Red, 62                               3         2171          3578      3470    6513       9983\n",
      "6/7/2014       7  June       2014              51  Adults (35-64)        F                  Australia  Queensland      Clothing            Jerseys         Short-Sleeve Classic Jersey, L                22           42            54        74     924        998\n"
     ]
    }
   ],
   "source": [
    "# Sort by Revenue in descending order and age_group in ascending display top 5 rows\n",
    "cursor.execute('SELECT * FROM sales ORDER BY Revenue DESC, Age_group ASC LIMIT 5 OFFSET 10')\n",
    "rows = cursor.fetchall()\n",
    "print(tabulate(rows, headers=column_names))"
   ]
  },
  {
   "cell_type": "markdown",
   "id": "ce5f0dc3",
   "metadata": {},
   "source": [
    "Filtering data Using WHERE"
   ]
  },
  {
   "cell_type": "code",
   "execution_count": 24,
   "id": "18143ebc",
   "metadata": {},
   "outputs": [
    {
     "name": "stdout",
     "output_type": "stream",
     "text": [
      "Date         Day  Month      Year    Customer_Age  Age_Group             Customer_Gender    Country        State       Product_Category    Sub_Category    Product                Order_Quantity    Unit_Cost    Unit_Price    Profit    Cost    Revenue\n",
      "---------  -----  -------  ------  --------------  --------------------  -----------------  -------------  ----------  ------------------  --------------  -------------------  ----------------  -----------  ------------  --------  ------  ---------\n",
      "3/27/2014     27  March      2014              51  Adults (35-64)        M                  United States  Oregon      Accessories         Bike Racks      Hitch Rack - 4-Bike                 9           45           120       524     405        929\n",
      "3/27/2016     27  March      2016              51  Adults (35-64)        M                  United States  Oregon      Accessories         Bike Racks      Hitch Rack - 4-Bike                 7           45           120       407     315        722\n",
      "7/19/2013     19  July       2013              32  Young Adults (25-34)  F                  United States  Oregon      Accessories         Bike Racks      Hitch Rack - 4-Bike                 9           45           120       524     405        929\n",
      "7/19/2015     19  July       2015              32  Young Adults (25-34)  F                  United States  Oregon      Accessories         Bike Racks      Hitch Rack - 4-Bike                 9           45           120       524     405        929\n",
      "7/13/2013     13  July       2013              43  Adults (35-64)        F                  United States  California  Accessories         Bike Racks      Hitch Rack - 4-Bike                10           45           120       726     450       1176\n"
     ]
    }
   ],
   "source": [
    "cursor.execute('SELECT * FROM sales WHERE Country = \"United States\" LIMIT 5')\n",
    "rows = cursor.fetchall()\n",
    "print(tabulate(rows, headers=column_names))"
   ]
  },
  {
   "cell_type": "markdown",
   "id": "eeefb24a",
   "metadata": {},
   "source": [
    "Using WHERE and Conditional Statement"
   ]
  },
  {
   "cell_type": "code",
   "execution_count": 25,
   "id": "9d989702",
   "metadata": {},
   "outputs": [
    {
     "name": "stdout",
     "output_type": "stream",
     "text": [
      "Date         Day  Month      Year    Customer_Age  Age_Group       Customer_Gender    Country        State       Product_Category    Sub_Category    Product                Order_Quantity    Unit_Cost    Unit_Price    Profit    Cost    Revenue\n",
      "---------  -----  -------  ------  --------------  --------------  -----------------  -------------  ----------  ------------------  --------------  -------------------  ----------------  -----------  ------------  --------  ------  ---------\n",
      "7/13/2013     13  July       2013              43  Adults (35-64)  F                  United States  California  Accessories         Bike Racks      Hitch Rack - 4-Bike                10           45           120       726     450       1176\n",
      "7/13/2015     13  July       2015              43  Adults (35-64)  F                  United States  California  Accessories         Bike Racks      Hitch Rack - 4-Bike                10           45           120       726     450       1176\n",
      "3/31/2014     31  March      2014              43  Adults (35-64)  F                  United States  California  Accessories         Bike Racks      Hitch Rack - 4-Bike                11           45           120       799     495       1294\n",
      "3/31/2016     31  March      2016              43  Adults (35-64)  F                  United States  California  Accessories         Bike Racks      Hitch Rack - 4-Bike                11           45           120       799     495       1294\n",
      "8/28/2013     28  August     2013              61  Adults (35-64)  M                  United States  California  Accessories         Bike Racks      Hitch Rack - 4-Bike                 8           45           120       581     360        941\n"
     ]
    }
   ],
   "source": [
    "# Using AND to filter data\n",
    "cursor.execute('SELECT * FROM sales WHERE Country = \"United States\" AND State = \"California\" LIMIT 5')\n",
    "rows = cursor.fetchall()\n",
    "print(tabulate(rows, headers=column_names))"
   ]
  },
  {
   "cell_type": "code",
   "execution_count": 26,
   "id": "d7983795",
   "metadata": {},
   "outputs": [
    {
     "name": "stdout",
     "output_type": "stream",
     "text": [
      "Date         Day  Month        Year    Customer_Age  Age_Group             Customer_Gender    Country    State             Product_Category    Sub_Category    Product                Order_Quantity    Unit_Cost    Unit_Price    Profit    Cost    Revenue\n",
      "---------  -----  ---------  ------  --------------  --------------------  -----------------  ---------  ----------------  ------------------  --------------  -------------------  ----------------  -----------  ------------  --------  ------  ---------\n",
      "9/2/2015       2  September    2015              29  Young Adults (25-34)  M                  Canada     British Columbia  Accessories         Bike Racks      Hitch Rack - 4-Bike                 1           45           120        74      45        119\n",
      "1/22/2014     22  January      2014              29  Young Adults (25-34)  M                  Canada     British Columbia  Accessories         Bike Racks      Hitch Rack - 4-Bike                 1           45           120        74      45        119\n",
      "1/22/2016     22  January      2016              29  Young Adults (25-34)  M                  Canada     British Columbia  Accessories         Bike Racks      Hitch Rack - 4-Bike                 1           45           120        74      45        119\n",
      "5/17/2014     17  May          2014              29  Young Adults (25-34)  M                  Canada     British Columbia  Accessories         Bike Racks      Hitch Rack - 4-Bike                 6           45           120       443     270        713\n",
      "5/17/2016     17  May          2016              29  Young Adults (25-34)  M                  Canada     British Columbia  Accessories         Bike Racks      Hitch Rack - 4-Bike                 8           45           120       590     360        950\n"
     ]
    }
   ],
   "source": [
    "# Use OR to filter data\n",
    "cursor.execute('SELECT * FROM sales WHERE Country = \"United States\" OR Country = \"Canada\" LIMIT 5 OFFSET 5')\n",
    "rows = cursor.fetchall()\n",
    "print(tabulate(rows, headers=column_names))"
   ]
  },
  {
   "cell_type": "markdown",
   "id": "0852d4ae",
   "metadata": {},
   "source": [
    "Returning some columns using Alias"
   ]
  },
  {
   "cell_type": "code",
   "execution_count": 27,
   "id": "5728b98f",
   "metadata": {},
   "outputs": [
    {
     "name": "stdout",
     "output_type": "stream",
     "text": [
      "Date        Day        Month             Year              Customer_Age\n",
      "----------  ---------  ----------------  ----------------  --------------\n",
      "Date        Country    State             Product_Category  Revenue\n",
      "11/26/2013  Canada     British Columbia  Accessories       950\n",
      "11/26/2015  Canada     British Columbia  Accessories       950\n",
      "3/23/2014   Australia  New South Wales   Accessories       2401\n",
      "3/23/2016   Australia  New South Wales   Accessories       2088\n"
     ]
    }
   ],
   "source": [
    "# Returning some columns using Alias\n",
    "cursor.execute('SELECT Date, Country, State, Product_Category AS Category, Revenue AS Sales FROM sales LIMIT 5')\n",
    "rows = cursor.fetchall()\n",
    "print(tabulate(rows, headers=column_names))"
   ]
  },
  {
   "cell_type": "markdown",
   "id": "73e880c7",
   "metadata": {},
   "source": [
    "Data Manipulation with SQL (INSERT, UPDATE, DELETE)"
   ]
  },
  {
   "cell_type": "code",
   "execution_count": 33,
   "id": "f84278c6",
   "metadata": {},
   "outputs": [],
   "source": [
    "# Adding a new sale record\n",
    "cursor.execute('''INSERT INTO sales (Date, Day, Month, Year, Customer_Age, Age_Group,    \n",
    "        Customer_Gender, Country, State, Product_Category,\n",
    "        Sub_Category, Product, Order_Quantity, Unit_Cost,\n",
    "        Unit_Price, Profit, Cost, Revenue) VALUES\n",
    "        ('1/1/2020', 'Wednesday', 'January', '2020', '25', 'Young Adults',\n",
    "        'Female', 'United States', 'California', 'Furniture',\n",
    "        'Furniture', 'Sofas', '1', '500', '1000', '500', '500', '1000')''')\n",
    "conn.commit()"
   ]
  },
  {
   "cell_type": "code",
   "execution_count": 39,
   "id": "3586088b",
   "metadata": {},
   "outputs": [
    {
     "name": "stdout",
     "output_type": "stream",
     "text": [
      "Date      Day       Month       Year    Customer_Age  Age_Group    Customer_Gender    Country        State       Product_Category    Sub_Category    Product      Order_Quantity    Unit_Cost    Unit_Price    Profit    Cost    Revenue\n",
      "--------  --------  --------  ------  --------------  -----------  -----------------  -------------  ----------  ------------------  --------------  ---------  ----------------  -----------  ------------  --------  ------  ---------\n",
      "6/1/2020  Monday    June        2020              50  Adults       Female             United States  California  Furniture           Furniture       Sofas                     1          500          1000       500     500       1000\n",
      "2/1/2020  Thursday  February    2020              30  Adults       Female             United States  California  Furniture           Furniture       Sofas                     1          500          1000       500     500       1000\n",
      "3/1/2020  Friday    March       2020              35  Adults       Female             United States  California  Furniture           Furniture       Sofas                     1          500          1000       500     500       1000\n",
      "4/1/2020  Saturday  April       2020              40  Adults       Female             United States  California  Furniture           Furniture       Sofas                     1          500          1000       500     500       1000\n",
      "5/1/2020  Sunday    May         2020              45  Adults       Female             United States  California  Furniture           Furniture       Sofas                     1          500          1000       500     500       1000\n"
     ]
    }
   ],
   "source": [
    "# Adding multiple records\n",
    "cursor.executemany('''INSERT INTO sales (Date, Day, Month, Year, Customer_Age, Age_Group,    \n",
    "        Customer_Gender, Country, State, Product_Category,\n",
    "        Sub_Category, Product, Order_Quantity, Unit_Cost,\n",
    "        Unit_Price, Profit, Cost, Revenue) VALUES\n",
    "        (?, ?, ?, ?, ?, ?, ?, ?, ?, ?, ?, ?, ?, ?, ?, ?, ?, ?)''', [\n",
    "    ('2/1/2020', 'Thursday', 'February', '2020', '30', 'Adults',\n",
    "        'Male', 'United States', 'California', 'Furniture',\n",
    "        'Furniture', 'Sofas', '8', '650', '900', '500', '500', '1000'),\n",
    "    ('3/1/2020', 'Friday', 'March', '2020', '35', 'Adults',\n",
    "        'Male', 'United States', 'California', 'Furniture',\n",
    "        'Furniture', 'Sofas', '5', '550', '1100', '500', '500', '1000'),\n",
    "    ('4/1/2020', 'Saturday', 'April', '2020', '40', 'Adults',\n",
    "        'Female', 'United States', 'California', 'Furniture',\n",
    "        'Furniture', 'Sofas', '4', '400', '800', '500', '500', '1000'),\n",
    "    ('5/1/2020', 'Sunday', 'May', '2020', '45', 'Adults',\n",
    "        'Male', 'United States', 'California', 'Furniture',\n",
    "        'Furniture', 'Sofas', '2', '380', '750', '500', '500', '1000'),\n",
    "    ('6/1/2020', 'Monday', 'June', '2020', '50', 'Adults',\n",
    "        'Male', 'United States', 'California', 'Furniture',\n",
    "        'Furniture', 'Sofas', '3', '700', '1200', '500', '500', '1000')\n",
    "])\n",
    "conn.commit()\n",
    "\n",
    "# Verify the new record\n",
    "cursor.execute('SELECT * FROM sales WHERE Product = \"Sofas\" LIMIT 5 OFFSET 5')\n",
    "rows = cursor.fetchall()\n",
    "print(tabulate(rows, headers=column_names))"
   ]
  },
  {
   "cell_type": "code",
   "execution_count": 38,
   "id": "820b3faa",
   "metadata": {},
   "outputs": [
    {
     "name": "stdout",
     "output_type": "stream",
     "text": [
      "Date      Day        Month       Year    Customer_Age  Age_Group     Customer_Gender    Country        State       Product_Category    Sub_Category    Product      Order_Quantity    Unit_Cost    Unit_Price    Profit    Cost    Revenue\n",
      "--------  ---------  --------  ------  --------------  ------------  -----------------  -------------  ----------  ------------------  --------------  ---------  ----------------  -----------  ------------  --------  ------  ---------\n",
      "6/1/2020  Monday     June        2020              50  Adults        Female             United States  California  Furniture           Furniture       Sofas                     1          500          1000       500     500       1000\n",
      "2/1/2020  Thursday   February    2020              30  Adults        Female             United States  California  Furniture           Furniture       Sofas                     1          500          1000       500     500       1000\n",
      "3/1/2020  Friday     March       2020              35  Adults        Female             United States  California  Furniture           Furniture       Sofas                     1          500          1000       500     500       1000\n",
      "4/1/2020  Saturday   April       2020              40  Adults        Female             United States  California  Furniture           Furniture       Sofas                     1          500          1000       500     500       1000\n",
      "5/1/2020  Sunday     May         2020              45  Adults        Female             United States  California  Furniture           Furniture       Sofas                     1          500          1000       500     500       1000\n",
      "6/1/2020  Monday     June        2020              50  Adults        Female             United States  California  Furniture           Furniture       Sofas                     1          500          1000       500     500       1000\n",
      "1/1/2020  Wednesday  January     2020              25  Young Adults  Female             United States  California  Furniture           Furniture       Sofas                     1          500          1000       500     500       1000\n",
      "1/1/2020  Wednesday  January     2020              25  Young Adults  Female             United States  California  Furniture           Furniture       Sofas                     1          500          1000       500     500       1000\n",
      "2/1/2020  Thursday   February    2020              30  Adults        Female             United States  California  Furniture           Furniture       Sofas                     1          500          1000       500     500       1000\n",
      "3/1/2020  Friday     March       2020              35  Adults        Female             United States  California  Furniture           Furniture       Sofas                     1          500          1000       500     500       1000\n"
     ]
    }
   ],
   "source": [
    "# Add another values to the table\n",
    "cursor.executemany('INSERT INTO sales VALUES (?,?,?,?,?,?,?,?,?,?,?,?,?,?,?,?,?,?)', [\n",
    "    ('7/1/2020', 'Tuesday', 'July', '2020', '55', 'Adults',\n",
    "        'Female', 'United States', 'California', 'Furniture',\n",
    "        'Furniture', 'Sofas', '2', '500', '1000', '500', '500', '1000'),\n",
    "    ('8/1/2020', 'Wednesday', 'August', '2020', '60', 'Adults',\n",
    "        'Male', 'United States', 'California', 'Furniture',\n",
    "        'Furniture', 'Sofas', '1', '500', '1000', '500', '500', '1000')\n",
    "])\n",
    "conn.commit()\n",
    "\n",
    "# Verify the new records\n",
    "cursor.execute('SELECT * FROM sales WHERE Product = \"Sofas\" LIMIT 10 OFFSET 5')\n",
    "rows = cursor.fetchall()\n",
    "print(tabulate(rows, headers=column_names))"
   ]
  },
  {
   "cell_type": "markdown",
   "id": "0c20be50",
   "metadata": {},
   "source": [
    "Update"
   ]
  },
  {
   "cell_type": "code",
   "execution_count": 40,
   "id": "272477f3",
   "metadata": {},
   "outputs": [
    {
     "name": "stdout",
     "output_type": "stream",
     "text": [
      "Date      Day        Month       Year    Customer_Age  Age_Group     Customer_Gender    Country        State       Product_Category    Sub_Category    Product      Order_Quantity    Unit_Cost    Unit_Price    Profit    Cost    Revenue\n",
      "--------  ---------  --------  ------  --------------  ------------  -----------------  -------------  ----------  ------------------  --------------  ---------  ----------------  -----------  ------------  --------  ------  ---------\n",
      "6/1/2020  Monday     June        2020              50  Adults        Female             United States  California  Furniture           Furniture       Sofas                     1          500          1000       500     500       1000\n",
      "2/1/2020  Thursday   February    2020              30  Adults        Female             United States  California  Furniture           Furniture       Sofas                     1          500          1000       500     500       1000\n",
      "3/1/2020  Friday     March       2020              35  Adults        Female             United States  California  Furniture           Furniture       Sofas                     1          500          1000       500     500       1000\n",
      "4/1/2020  Saturday   April       2020              40  Adults        Female             United States  California  Furniture           Furniture       Sofas                     1          500          1000       500     500       1000\n",
      "5/1/2020  Sunday     May         2020              45  Adults        Female             United States  California  Furniture           Furniture       Sofas                     1          500          1000       500     500       1000\n",
      "6/1/2020  Monday     June        2020              50  Adults        Female             United States  California  Furniture           Furniture       Sofas                     1          500          1000       500     500       1000\n",
      "1/1/2020  Wednesday  January     2020              25  Young Adults  Female             United States  California  Furniture           Furniture       Sofas                     1          500          1000       700     500       1500\n",
      "1/1/2020  Wednesday  January     2020              25  Young Adults  Female             United States  California  Furniture           Furniture       Sofas                     1          500          1000       700     500       1500\n",
      "2/1/2020  Thursday   February    2020              30  Adults        Female             United States  California  Furniture           Furniture       Sofas                     1          500          1000       500     500       1000\n",
      "3/1/2020  Friday     March       2020              35  Adults        Female             United States  California  Furniture           Furniture       Sofas                     1          500          1000       500     500       1000\n"
     ]
    }
   ],
   "source": [
    "# Update a record\n",
    "cursor.execute('''UPDATE sales SET Revenue = 1500, Profit = 700 WHERE Date = '1/1/2020' AND Product = 'Sofas' ''')\n",
    "conn.commit()\n",
    "\n",
    "# Verify the updated record\n",
    "cursor.execute('SELECT * FROM sales WHERE Product = \"Sofas\" LIMIT 10 OFFSET 5')\n",
    "rows = cursor.fetchall()\n",
    "print(tabulate(rows, headers=column_names))"
   ]
  },
  {
   "cell_type": "markdown",
   "id": "91323864",
   "metadata": {},
   "source": [
    "DELETE"
   ]
  },
  {
   "cell_type": "code",
   "execution_count": 41,
   "id": "e2c44e5b",
   "metadata": {},
   "outputs": [
    {
     "name": "stdout",
     "output_type": "stream",
     "text": [
      "Date      Day        Month       Year    Customer_Age  Age_Group     Customer_Gender    Country        State       Product_Category    Sub_Category    Product      Order_Quantity    Unit_Cost    Unit_Price    Profit    Cost    Revenue\n",
      "--------  ---------  --------  ------  --------------  ------------  -----------------  -------------  ----------  ------------------  --------------  ---------  ----------------  -----------  ------------  --------  ------  ---------\n",
      "6/1/2020  Monday     June        2020              50  Adults        Female             United States  California  Furniture           Furniture       Sofas                     1          500          1000       500     500       1000\n",
      "2/1/2020  Thursday   February    2020              30  Adults        Female             United States  California  Furniture           Furniture       Sofas                     1          500          1000       500     500       1000\n",
      "3/1/2020  Friday     March       2020              35  Adults        Female             United States  California  Furniture           Furniture       Sofas                     1          500          1000       500     500       1000\n",
      "4/1/2020  Saturday   April       2020              40  Adults        Female             United States  California  Furniture           Furniture       Sofas                     1          500          1000       500     500       1000\n",
      "5/1/2020  Sunday     May         2020              45  Adults        Female             United States  California  Furniture           Furniture       Sofas                     1          500          1000       500     500       1000\n",
      "6/1/2020  Monday     June        2020              50  Adults        Female             United States  California  Furniture           Furniture       Sofas                     1          500          1000       500     500       1000\n",
      "1/1/2020  Wednesday  January     2020              25  Young Adults  Female             United States  California  Furniture           Furniture       Sofas                     1          500          1000       700     500       1500\n",
      "1/1/2020  Wednesday  January     2020              25  Young Adults  Female             United States  California  Furniture           Furniture       Sofas                     1          500          1000       700     500       1500\n",
      "2/1/2020  Thursday   February    2020              30  Adults        Female             United States  California  Furniture           Furniture       Sofas                     1          500          1000       500     500       1000\n",
      "3/1/2020  Friday     March       2020              35  Adults        Female             United States  California  Furniture           Furniture       Sofas                     1          500          1000       500     500       1000\n"
     ]
    }
   ],
   "source": [
    "# Delete a record\n",
    "cursor.execute('''DELETE FROM sales WHERE Date = '8/1/2020' AND Product = 'Sofas' ''')\n",
    "conn.commit()\n",
    "\n",
    "# Verify the deleted record\n",
    "cursor.execute('SELECT * FROM sales WHERE Product = \"Sofas\" LIMIT 10 OFFSET 5')\n",
    "rows = cursor.fetchall()\n",
    "print(tabulate(rows, headers=column_names))"
   ]
  },
  {
   "cell_type": "code",
   "execution_count": 43,
   "id": "f4386cbf",
   "metadata": {},
   "outputs": [
    {
     "name": "stdout",
     "output_type": "stream",
     "text": [
      "Date      Day        Month      Year    Customer_Age  Age_Group     Customer_Gender    Country        State       Product_Category    Sub_Category    Product      Order_Quantity    Unit_Cost    Unit_Price    Profit    Cost    Revenue\n",
      "--------  ---------  -------  ------  --------------  ------------  -----------------  -------------  ----------  ------------------  --------------  ---------  ----------------  -----------  ------------  --------  ------  ---------\n",
      "1/1/2020  Wednesday  January    2020              25  Young Adults  Female             United States  California  Furniture           Furniture       Sofas                     1          500          1000       700     500       1500\n",
      "1/1/2020  Wednesday  January    2020              25  Young Adults  Female             United States  California  Furniture           Furniture       Sofas                     1          500          1000       700     500       1500\n",
      "5/1/2020  Sunday     May        2020              45  Adults        Female             United States  California  Furniture           Furniture       Sofas                     1          500          1000       500     500       1000\n",
      "6/1/2020  Monday     June       2020              50  Adults        Female             United States  California  Furniture           Furniture       Sofas                     1          500          1000       500     500       1000\n",
      "5/1/2020  Sunday     May        2020              45  Adults        Male               United States  California  Furniture           Furniture       Sofas                     2          380           750       500     500       1000\n",
      "6/1/2020  Monday     June       2020              50  Adults        Male               United States  California  Furniture           Furniture       Sofas                     3          700          1200       500     500       1000\n",
      "5/1/2020  Sunday     May        2020              45  Adults        Male               United States  California  Furniture           Furniture       Sofas                     2          380           750       500     500       1000\n",
      "6/1/2020  Monday     June       2020              50  Adults        Male               United States  California  Furniture           Furniture       Sofas                     3          700          1200       500     500       1000\n",
      "7/1/2020  Tuesday    July       2020              55  Adults        Female             United States  California  Furniture           Furniture       Sofas                     2          500          1000       500     500       1000\n",
      "7/1/2020  Tuesday    July       2020              55  Adults        Female             United States  California  Furniture           Furniture       Sofas                     2          500          1000       500     500       1000\n"
     ]
    }
   ],
   "source": [
    "# Delete a multiple records\n",
    "cursor.execute('''DELETE FROM sales WHERE Date IN ('2/1/2020', '3/1/2020', '4/1/2020') AND Product = 'Sofas' ''')\n",
    "conn.commit()\n",
    "\n",
    "# Verify the deleted records\n",
    "cursor.execute('SELECT * FROM sales WHERE Product = \"Sofas\" LIMIT 10 OFFSET 5')\n",
    "rows = cursor.fetchall()\n",
    "print(tabulate(rows, headers=column_names))"
   ]
  },
  {
   "cell_type": "markdown",
   "id": "d978e9a8",
   "metadata": {},
   "source": [
    "To delete the whole from the table, run the code below in the python enviroment\n",
    "\n",
    "# Delete whole records\n",
    "cursor.execute('DELETE FROM sales')\n",
    "conn.commit()\n",
    "\n",
    "# Verify all records are deleted\n",
    "cursor.execute('SELECT * FROM sales')\n",
    "rows = cursor.fetchall()\n",
    "print(tabulate(rows, headers=column_names))"
   ]
  },
  {
   "cell_type": "markdown",
   "id": "7f899345",
   "metadata": {},
   "source": [
    "Use Transactions for Atomicity"
   ]
  },
  {
   "cell_type": "code",
   "execution_count": 54,
   "id": "b94d1f94",
   "metadata": {},
   "outputs": [
    {
     "name": "stdout",
     "output_type": "stream",
     "text": [
      "Date      Day        Month      Year    Customer_Age  Age_Group     Customer_Gender    Country        State       Product_Category    Sub_Category    Product      Order_Quantity    Unit_Cost    Unit_Price    Profit    Cost    Revenue\n",
      "--------  ---------  -------  ------  --------------  ------------  -----------------  -------------  ----------  ------------------  --------------  ---------  ----------------  -----------  ------------  --------  ------  ---------\n",
      "1/1/2020  Wednesday  January    2020              25  Young Adults  Female             United States  California  Furniture           Furniture       Sofas                     1          500          1000       700     500       1500\n",
      "1/1/2020  Wednesday  January    2020              25  Young Adults  Female             United States  California  Furniture           Furniture       Sofas                     1          500          1000       700     500       1500\n",
      "5/1/2020  Sunday     May        2020              45  Adults        Female             United States  California  Furniture           Furniture       Sofas                     1          500          1000       500     500       1000\n",
      "6/1/2020  Monday     June       2020              50  Adults        Female             United States  California  Furniture           Furniture       Sofas                     1          500          1000       500     500       1000\n",
      "5/1/2020  Sunday     May        2020              45  Adults        Male               United States  California  Furniture           Furniture       Sofas                     2          380           750       500     500       1000\n",
      "6/1/2020  Monday     June       2020              50  Adults        Male               United States  California  Furniture           Furniture       Sofas                     3          700          1200       500     500       1000\n",
      "5/1/2020  Sunday     May        2020              45  Adults        Male               United States  California  Furniture           Furniture       Sofas                     2          380           750       500     500       1000\n",
      "6/1/2020  Monday     June       2020              50  Adults        Male               United States  California  Furniture           Furniture       Sofas                     3          700          1200       500     500       1000\n",
      "7/1/2020  Tuesday    July       2020              55  Adults        Female             United States  California  Furniture           Furniture       Sofas                     2          500          1000       500     500       1000\n",
      "7/1/2020  Tuesday    July       2020              55  Adults        Female             United States  California  Furniture           Furniture       Sofas                     2          500          1000       500     500       1000\n"
     ]
    }
   ],
   "source": [
    "# Begin a transaction\n",
    "conn.execute('BEGIN TRANSACTION;')\n",
    "cursor.execute('SELECT * FROM sales WHERE Product = \"Sofas\" LIMIT 10 OFFSET 5')\n",
    "# Update a record\n",
    "cursor.execute('''UPDATE sales SET Revenue = 1500, Profit = 700 WHERE Date = '1/1/2020' AND Product = 'Sofas' ''')\n",
    "# Delete a record\n",
    "cursor.execute('''DELETE FROM sales WHERE Date = '8/1/2020' AND Product = 'Sofas' ''')\n",
    "# Insert a new record\n",
    "cursor.execute('''INSERT INTO sales (Date, Day, Month, Year, Customer_Age, Age_Group,    \n",
    "        Customer_Gender, Country, State, Product_Category,\n",
    "        Sub_Category, Product, Order_Quantity, Unit_Cost,\n",
    "        Unit_Price, Profit, Cost, Revenue) VALUES\n",
    "        ('7/1/2020', 'Tuesday', 'July', '2020', '55', 'Adults',\n",
    "        'Female', 'United States', 'California', 'Furniture',\n",
    "        'Furniture', 'Sofas', '2', '500', '1000', '500', '500', '1000')''')\n",
    "# Commit the transaction\n",
    "conn.commit()\n",
    "\n",
    "# Verify the updated record\n",
    "cursor.execute('SELECT * FROM sales WHERE Product = \"Sofas\" LIMIT 10 OFFSET 5')\n",
    "rows = cursor.fetchall()\n",
    "print(tabulate(rows, headers=column_names))"
   ]
  },
  {
   "cell_type": "markdown",
   "id": "55f2f97f",
   "metadata": {},
   "source": [
    "Bulk update in small batches"
   ]
  },
  {
   "cell_type": "code",
   "execution_count": 80,
   "id": "01d825c6",
   "metadata": {},
   "outputs": [
    {
     "name": "stdout",
     "output_type": "stream",
     "text": [
      "Date      Day        Month      Year    Customer_Age  Age_Group     Customer_Gender    Country        State       Product_Category    Sub_Category    Product      Order_Quantity    Unit_Cost    Unit_Price    Profit    Cost    Revenue\n",
      "--------  ---------  -------  ------  --------------  ------------  -----------------  -------------  ----------  ------------------  --------------  ---------  ----------------  -----------  ------------  --------  ------  ---------\n",
      "1/1/2020  Wednesday  January    2020              38  Young Adults  Female             United States  California  Furniture           Furniture       Sofas                     1          500          1000       700     500       1500\n",
      "1/1/2020  Wednesday  January    2020              38  Young Adults  Female             United States  California  Furniture           Furniture       Sofas                     1          500          1000       700     500       1500\n",
      "1/1/2020  Wednesday  January    2020              38  Young Adults  Female             United States  California  Furniture           Furniture       Sofas                     1          500          1000       700     500       1500\n"
     ]
    }
   ],
   "source": [
    "# Update Customers_Age add 1\n",
    "cursor.execute('''UPDATE sales SET Customer_Age = Customer_Age + 1 WHERE Profit > 500''')\n",
    "conn.commit()\n",
    "\n",
    "# Verify the updated table\n",
    "cursor.execute('''SELECT * FROM sales WHERE Profit BETWEEN 600 AND 900 LIMIT 10''')\n",
    "rows = cursor.fetchall()\n",
    "print(tabulate(rows, headers=column_names))"
   ]
  },
  {
   "cell_type": "markdown",
   "id": "a014aeda",
   "metadata": {},
   "source": [
    "Aggregation in SQL\n",
    "Aggregate functions (COUNT, SUM, AVG, MIN, MAX)\n",
    "Grouping results using GROUP BY\n",
    "Filtering grouped data with HAVING\n",
    "Combining data from multiple tables using JOINs:\n",
    "INNER JOIN\n",
    "LEFT JOIN\n",
    "RIGHT JOIN\n",
    "FULL JOIN"
   ]
  },
  {
   "cell_type": "markdown",
   "id": "872b0014",
   "metadata": {},
   "source": [
    "COUNT (Total number)"
   ]
  },
  {
   "cell_type": "code",
   "execution_count": 91,
   "id": "8c6c2317",
   "metadata": {},
   "outputs": [
    {
     "name": "stdout",
     "output_type": "stream",
     "text": [
      "Total number of records in the sales table: 113055\n"
     ]
    }
   ],
   "source": [
    "# Count the number of records in the sales table\n",
    "cursor.execute('SELECT COUNT(*) FROM sales')\n",
    "count = cursor.fetchone()[0]\n",
    "print(f\"Total number of records in the sales table: {count}\") # (count)"
   ]
  },
  {
   "cell_type": "markdown",
   "id": "6294c7fe",
   "metadata": {},
   "source": [
    "Counting non-Null values"
   ]
  },
  {
   "cell_type": "code",
   "execution_count": 96,
   "id": "f10d90af",
   "metadata": {},
   "outputs": [
    {
     "name": "stdout",
     "output_type": "stream",
     "text": [
      "113055\n"
     ]
    }
   ],
   "source": [
    "cursor.execute('SELECT COUNT(Product_Category) FROM sales')\n",
    "prod_cat_count = cursor.fetchone()[0]\n",
    "print(prod_cat_count)"
   ]
  },
  {
   "cell_type": "markdown",
   "id": "3651bb04",
   "metadata": {},
   "source": [
    "SUM (Total)"
   ]
  },
  {
   "cell_type": "code",
   "execution_count": 99,
   "id": "0097390f",
   "metadata": {},
   "outputs": [
    {
     "name": "stdout",
     "output_type": "stream",
     "text": [
      "Total Revenue: $85290508.0\n"
     ]
    }
   ],
   "source": [
    "# Sum of Revenue\n",
    "cursor.execute('SELECT SUM(Revenue) FROM sales')\n",
    "revenue_sum = cursor.fetchone()[0]\n",
    "print(f\"Total Revenue: ${revenue_sum}\") # (revenue_sum)"
   ]
  },
  {
   "cell_type": "code",
   "execution_count": 100,
   "id": "99b17208",
   "metadata": {},
   "outputs": [
    {
     "name": "stdout",
     "output_type": "stream",
     "text": [
      "Total Profit: $32230700.0\n"
     ]
    }
   ],
   "source": [
    "# Total Profit\n",
    "cursor.execute('SELECT SUM(Profit) FROM sales')\n",
    "profit_sum = cursor.fetchone()[0]\n",
    "print(f\"Total Profit: ${profit_sum}\") # (profit_sum)"
   ]
  },
  {
   "cell_type": "markdown",
   "id": "67ff8dbb",
   "metadata": {},
   "source": [
    "AVERAGE (Mean)"
   ]
  },
  {
   "cell_type": "code",
   "execution_count": 101,
   "id": "878fc7d4",
   "metadata": {},
   "outputs": [
    {
     "name": "stdout",
     "output_type": "stream",
     "text": [
      "Average Revenue: $754.4160629781965\n"
     ]
    }
   ],
   "source": [
    "# Average Revenue\n",
    "cursor.execute('SELECT AVG(Revenue) FROM sales')\n",
    "revenue_avg = cursor.fetchone()[0]\n",
    "print(f\"Average Revenue: ${revenue_avg}\") # (revenue_avg)"
   ]
  },
  {
   "cell_type": "code",
   "execution_count": 106,
   "id": "79e73e73",
   "metadata": {},
   "outputs": [
    {
     "name": "stdout",
     "output_type": "stream",
     "text": [
      "Average Customer_Age: 45.920419264959534 years\n"
     ]
    }
   ],
   "source": [
    "# Average Customer_Age\n",
    "cursor.execute('SELECT AVG(Customer_Age) FROM sales')\n",
    "age_avg = cursor.fetchone()[0]\n",
    "print(f\"Average Customer_Age: {age_avg} years\") # (age_avg)"
   ]
  },
  {
   "cell_type": "markdown",
   "id": "de56e83e",
   "metadata": {},
   "source": [
    "Round (Approximation)"
   ]
  },
  {
   "cell_type": "code",
   "execution_count": 105,
   "id": "481bf461",
   "metadata": {},
   "outputs": [
    {
     "name": "stdout",
     "output_type": "stream",
     "text": [
      "Average Customer_Age: 45.92 years\n"
     ]
    }
   ],
   "source": [
    "# Average Customer_Age\n",
    "cursor.execute('SELECT ROUND(AVG(Customer_Age), 2) AS avg_age FROM sales')\n",
    "age_avg = cursor.fetchone()[0]\n",
    "print(f\"Average Customer_Age: {age_avg} years\") # (age_avg)"
   ]
  },
  {
   "cell_type": "markdown",
   "id": "9060d406",
   "metadata": {},
   "source": [
    "MIN (return minimum value)"
   ]
  },
  {
   "cell_type": "code",
   "execution_count": 107,
   "id": "13d2b23e",
   "metadata": {},
   "outputs": [
    {
     "name": "stdout",
     "output_type": "stream",
     "text": [
      "Minimum Revenue: $1500\n"
     ]
    }
   ],
   "source": [
    "# Minimum Revenue\n",
    "cursor.execute('SELECT MIN(Revenue) FROM sales')\n",
    "revenue_min = cursor.fetchone()[0]\n",
    "print(f\"Minimum Revenue: ${revenue_min}\") # (revenue_min)"
   ]
  },
  {
   "cell_type": "markdown",
   "id": "bec358db",
   "metadata": {},
   "source": [
    "MAX (maximum value)"
   ]
  },
  {
   "cell_type": "code",
   "execution_count": 109,
   "id": "9fdda3c2",
   "metadata": {},
   "outputs": [
    {
     "name": "stdout",
     "output_type": "stream",
     "text": [
      "Oldest Customer is 97 years\n"
     ]
    }
   ],
   "source": [
    "# Oldest Customer_Age\n",
    "cursor.execute('SELECT MAX(Customer_Age) FROM sales')\n",
    "age_max = cursor.fetchone()[0]\n",
    "print(f\"Oldest Customer is {age_max} years\") # (age_max)"
   ]
  },
  {
   "cell_type": "markdown",
   "id": "abf0fb38",
   "metadata": {},
   "source": [
    "Aggregate with GROUP BY"
   ]
  },
  {
   "cell_type": "code",
   "execution_count": 110,
   "id": "7505ec5c",
   "metadata": {},
   "outputs": [
    {
     "name": "stdout",
     "output_type": "stream",
     "text": [
      "Country           Total_Revenue\n",
      "--------------  ---------------\n",
      "Australia           2.13021e+07\n",
      "Canada              7.93574e+06\n",
      "Country             0\n",
      "France              8.43287e+06\n",
      "Germany             8.9786e+06\n",
      "United Kingdom      1.06462e+07\n",
      "United States       2.7995e+07\n"
     ]
    }
   ],
   "source": [
    "# Sum of Revenue by Country\n",
    "cursor.execute('SELECT Country, SUM(Revenue) AS Total_Revenue FROM sales GROUP BY Country')\n",
    "rows = cursor.fetchall()\n",
    "print(tabulate(rows, headers=[\"Country\", \"Total_Revenue\"]))"
   ]
  },
  {
   "cell_type": "code",
   "execution_count": 122,
   "id": "87a253e4",
   "metadata": {},
   "outputs": [
    {
     "name": "stdout",
     "output_type": "stream",
     "text": [
      "Customer_Gender      Total_Revenue\n",
      "-----------------  ---------------\n",
      "Customer_Gender        0\n",
      "Female                 4.19491e+07\n",
      "Male                   4.33414e+07\n"
     ]
    }
   ],
   "source": [
    "# Sum of Revenue by Customer_Gender\n",
    "cursor.execute('SELECT Customer_Gender, SUM(Revenue) AS Total_Revenue FROM sales GROUP BY Customer_Gender')\n",
    "rows = cursor.fetchall()\n",
    "print(tabulate(rows, headers=[\"Customer_Gender\", \"Total_Revenue\"]))\n"
   ]
  },
  {
   "cell_type": "code",
   "execution_count": 123,
   "id": "4b869448",
   "metadata": {},
   "outputs": [
    {
     "name": "stdout",
     "output_type": "stream",
     "text": [
      "Product_Category      Total_Revenue\n",
      "------------------  ---------------\n",
      "Accessories             1.5118e+07\n",
      "Bikes                   6.17821e+07\n",
      "Clothing                8.37088e+06\n",
      "Furniture           19500\n",
      "Product_Category        0\n"
     ]
    }
   ],
   "source": [
    "# Sum of Revenue by Product_Category\n",
    "cursor.execute('SELECT Product_Category, SUM(Revenue) AS Total_Revenue FROM sales GROUP BY Product_Category')\n",
    "rows = cursor.fetchall()\n",
    "print(tabulate(rows, headers=[\"Product_Category\", \"Total_Revenue\"]))"
   ]
  },
  {
   "cell_type": "code",
   "execution_count": 126,
   "id": "6c30d3cb",
   "metadata": {},
   "outputs": [
    {
     "name": "stdout",
     "output_type": "stream",
     "text": [
      "Product_Category      Average Customer_Age\n",
      "------------------  ----------------------\n",
      "Accessories                             46\n",
      "Bikes                                   45\n",
      "Clothing                                46\n",
      "Furniture                               56\n",
      "Product_Category                        10\n"
     ]
    }
   ],
   "source": [
    "# Average Customer_Age by Product_Category\n",
    "cursor.execute('SELECT Product_Category, ROUND(AVG(Customer_Age), 0) AS avg_age FROM sales GROUP BY Product_Category')\n",
    "rows = cursor.fetchall()\n",
    "print(tabulate(rows, headers=[\"Product_Category\", \"Average Customer_Age\"]))"
   ]
  },
  {
   "cell_type": "code",
   "execution_count": 144,
   "id": "6f93b68f",
   "metadata": {},
   "outputs": [
    {
     "name": "stdout",
     "output_type": "stream",
     "text": [
      "╒════════════════════╤════════════════╤══════════════════╕\n",
      "│ Product_Category   │ Country        │   Average Profit │\n",
      "╞════════════════════╪════════════════╪══════════════════╡\n",
      "│ Accessories        │ Australia      │           112.48 │\n",
      "├────────────────────┼────────────────┼──────────────────┤\n",
      "│ Accessories        │ Canada         │           138.62 │\n",
      "├────────────────────┼────────────────┼──────────────────┤\n",
      "│ Accessories        │ France         │           116.51 │\n",
      "├────────────────────┼────────────────┼──────────────────┤\n",
      "│ Accessories        │ Germany        │           138.52 │\n",
      "├────────────────────┼────────────────┼──────────────────┤\n",
      "│ Accessories        │ United Kingdom │           141.08 │\n",
      "├────────────────────┼────────────────┼──────────────────┤\n",
      "│ Accessories        │ United States  │           123.6  │\n",
      "├────────────────────┼────────────────┼──────────────────┤\n",
      "│ Bikes              │ Australia      │           684.79 │\n",
      "├────────────────────┼────────────────┼──────────────────┤\n",
      "│ Bikes              │ Canada         │          1092.35 │\n",
      "├────────────────────┼────────────────┼──────────────────┤\n",
      "│ Bikes              │ France         │           689.8  │\n",
      "├────────────────────┼────────────────┼──────────────────┤\n",
      "│ Bikes              │ Germany        │           750.43 │\n",
      "╘════════════════════╧════════════════╧══════════════════╛\n"
     ]
    }
   ],
   "source": [
    "# Average Profit by Product_Category and Country\n",
    "cursor.execute('''SELECT Product_Category, Country, ROUND(AVG(Profit), 2)   AS avg_profit\n",
    "                  FROM sales GROUP BY Product_Category, Country LIMIT 10''')\n",
    "rows = cursor.fetchall()\n",
    "print(tabulate(rows, headers=[\"Product_Category\", \"Country\", \"Average Profit\"], tablefmt=\"fancy_grid\"))"
   ]
  },
  {
   "cell_type": "code",
   "execution_count": 145,
   "id": "baa5b18c",
   "metadata": {},
   "outputs": [
    {
     "name": "stdout",
     "output_type": "stream",
     "text": [
      "╒═══════════════════╤═════════╕\n",
      "│ Customer_Gender   │   Count │\n",
      "╞═══════════════════╪═════════╡\n",
      "│ Customer_Gender   │       1 │\n",
      "├───────────────────┼─────────┤\n",
      "│ Female            │   54736 │\n",
      "├───────────────────┼─────────┤\n",
      "│ Male              │   58318 │\n",
      "╘═══════════════════╧═════════╛\n"
     ]
    }
   ],
   "source": [
    "# Count the number of records in the sales table by Customer_Gender\n",
    "cursor.execute('SELECT Customer_Gender, COUNT(*) FROM sales GROUP BY Customer_Gender')\n",
    "rows = cursor.fetchall()\n",
    "print(tabulate(rows, headers=[\"Customer_Gender\", \"Count\"], tablefmt=\"fancy_grid\"))"
   ]
  },
  {
   "cell_type": "code",
   "execution_count": 146,
   "id": "b1c2f265",
   "metadata": {},
   "outputs": [
    {
     "name": "stdout",
     "output_type": "stream",
     "text": [
      "╒════════╤════════════════╕\n",
      "│ Year   │   Total Profit │\n",
      "╞════════╪════════════════╡\n",
      "│ 2011   │    2.8813e+06  │\n",
      "├────────┼────────────────┤\n",
      "│ 2012   │    2.95199e+06 │\n",
      "├────────┼────────────────┤\n",
      "│ 2013   │    5.95921e+06 │\n",
      "├────────┼────────────────┤\n",
      "│ 2014   │    5.86409e+06 │\n",
      "├────────┼────────────────┤\n",
      "│ 2015   │    7.52856e+06 │\n",
      "├────────┼────────────────┤\n",
      "│ 2016   │    7.03595e+06 │\n",
      "├────────┼────────────────┤\n",
      "│ 2020   │ 9600           │\n",
      "├────────┼────────────────┤\n",
      "│ Year   │    0           │\n",
      "╘════════╧════════════════╛\n"
     ]
    }
   ],
   "source": [
    "# Total Profit by year and Country\n",
    "cursor.execute('SELECT Year, SUM(Profit) AS Total_Profit FROM sales GROUP BY Year')\n",
    "rows = cursor.fetchall()\n",
    "print(tabulate(rows, headers=[\"Year\",  \"Total Profit\"], tablefmt=\"fancy_grid\"))"
   ]
  },
  {
   "cell_type": "code",
   "execution_count": 131,
   "id": "01745b00",
   "metadata": {},
   "outputs": [
    {
     "name": "stdout",
     "output_type": "stream",
     "text": [
      "Product_Category    Maximum Revenue\n",
      "------------------  -----------------\n",
      "Accessories         999\n",
      "Bikes               9983\n",
      "Clothing            998\n",
      "Furniture           1000\n",
      "Product_Category    Revenue\n"
     ]
    }
   ],
   "source": [
    "# Maximum Revenue by Product_Category\n",
    "cursor.execute('SELECT Product_Category, MAX(Revenue) AS Max_Revenue FROM sales GROUP BY Product_Category')\n",
    "rows = cursor.fetchall()\n",
    "print(tabulate(rows, headers=[\"Product_Category\", \"Maximum Revenue\"]))"
   ]
  },
  {
   "cell_type": "code",
   "execution_count": null,
   "id": "410a0951",
   "metadata": {},
   "outputs": [
    {
     "name": "stdout",
     "output_type": "stream",
     "text": [
      "Product_Category    Maximum Profit\n",
      "------------------  ----------------\n",
      "Accessories         99\n",
      "Bikes               998\n",
      "Clothing            996\n",
      "Furniture           500\n",
      "Product_Category    Profit\n"
     ]
    }
   ],
   "source": [
    "# Maximum Profit by Product_Category\n",
    "cursor.execute('SELECT Product_Category, MAX(Profit) AS Min_Profit FROM sales GROUP BY Product_Category')\n",
    "rows = cursor.fetchall()\n",
    "print(tabulate(rows, headers=[\"Product_Category\", \"Maximum Profit\"]))"
   ]
  },
  {
   "cell_type": "code",
   "execution_count": 141,
   "id": "847aa849",
   "metadata": {},
   "outputs": [
    {
     "name": "stdout",
     "output_type": "stream",
     "text": [
      "╒════════════╤═══════════════════╕\n",
      "│ Date       │ Maximum Revenue   │\n",
      "╞════════════╪═══════════════════╡\n",
      "│ 8/19/2011  │ 9983              │\n",
      "├────────────┼───────────────────┤\n",
      "│ 8/18/2012  │ 983               │\n",
      "├────────────┼───────────────────┤\n",
      "│ 12/26/2013 │ 999               │\n",
      "├────────────┼───────────────────┤\n",
      "│ 6/7/2014   │ 998               │\n",
      "├────────────┼───────────────────┤\n",
      "│ 8/26/2015  │ 999               │\n",
      "├────────────┼───────────────────┤\n",
      "│ 2/28/2016  │ 999               │\n",
      "├────────────┼───────────────────┤\n",
      "│ 5/1/2020   │ 1000              │\n",
      "├────────────┼───────────────────┤\n",
      "│ Date       │ Revenue           │\n",
      "╘════════════╧═══════════════════╛\n"
     ]
    }
   ],
   "source": [
    "# Maximum Revenue by Date\n",
    "cursor.execute('SELECT Date, MAX(Revenue) AS Max_Revenue FROM sales GROUP BY Year')\n",
    "rows = cursor.fetchall()\n",
    "print(tabulate(rows, headers=[\"Date\", \"Maximum Revenue\"], tablefmt=\"fancy_grid\"))"
   ]
  },
  {
   "cell_type": "code",
   "execution_count": 147,
   "id": "3ca71621",
   "metadata": {},
   "outputs": [
    {
     "name": "stdout",
     "output_type": "stream",
     "text": [
      "╒════════════════════╤════════════════╤══════════════════╕\n",
      "│ Product_Category   │ Country        │   Average Profit │\n",
      "╞════════════════════╪════════════════╪══════════════════╡\n",
      "│ Bikes              │ Australia      │           684.79 │\n",
      "├────────────────────┼────────────────┼──────────────────┤\n",
      "│ Bikes              │ Canada         │          1092.35 │\n",
      "├────────────────────┼────────────────┼──────────────────┤\n",
      "│ Bikes              │ France         │           689.8  │\n",
      "├────────────────────┼────────────────┼──────────────────┤\n",
      "│ Bikes              │ Germany        │           750.43 │\n",
      "├────────────────────┼────────────────┼──────────────────┤\n",
      "│ Bikes              │ United Kingdom │           843.97 │\n",
      "├────────────────────┼────────────────┼──────────────────┤\n",
      "│ Bikes              │ United States  │           849.37 │\n",
      "├────────────────────┼────────────────┼──────────────────┤\n",
      "│ Furniture          │ United States  │           533.33 │\n",
      "╘════════════════════╧════════════════╧══════════════════╛\n"
     ]
    }
   ],
   "source": [
    "# Using HAVING to filter groups\n",
    "cursor.execute('''SELECT Product_Category, Country, ROUND(AVG(Profit), 2)   AS avg_profit\n",
    "                  FROM sales GROUP BY Product_Category, Country HAVING ROUND(AVG(Profit), 2) > 500''')\n",
    "rows = cursor.fetchall()\n",
    "print(tabulate(rows, headers=[\"Product_Category\", \"Country\", \"Average Profit\"], tablefmt=\"fancy_grid\"))"
   ]
  },
  {
   "cell_type": "code",
   "execution_count": 150,
   "id": "d810508b",
   "metadata": {},
   "outputs": [
    {
     "name": "stdout",
     "output_type": "stream",
     "text": [
      "╒════════════════╤═════════╕\n",
      "│ Country        │   Count │\n",
      "╞════════════════╪═════════╡\n",
      "│ Australia      │       5 │\n",
      "├────────────────┼─────────┤\n",
      "│ Canada         │       3 │\n",
      "├────────────────┼─────────┤\n",
      "│ Country        │       1 │\n",
      "├────────────────┼─────────┤\n",
      "│ France         │      16 │\n",
      "├────────────────┼─────────┤\n",
      "│ Germany        │       6 │\n",
      "├────────────────┼─────────┤\n",
      "│ United Kingdom │       1 │\n",
      "├────────────────┼─────────┤\n",
      "│ United States  │      22 │\n",
      "╘════════════════╧═════════╛\n"
     ]
    }
   ],
   "source": [
    "# Count the number of  state by Country\n",
    "cursor.execute('SELECT Country, COUNT(DISTINCT State) FROM sales GROUP BY Country')\n",
    "rows = cursor.fetchall()\n",
    "print(tabulate(rows, headers=[\"Country\", \"Count\"], tablefmt=\"fancy_grid\"))"
   ]
  },
  {
   "cell_type": "markdown",
   "id": "c9ca0fd1",
   "metadata": {},
   "source": [
    "Advanced SQL Concepts (Subqueries and Indexing)"
   ]
  }
 ],
 "metadata": {
  "kernelspec": {
   "display_name": "Python 3",
   "language": "python",
   "name": "python3"
  },
  "language_info": {
   "codemirror_mode": {
    "name": "ipython",
    "version": 3
   },
   "file_extension": ".py",
   "mimetype": "text/x-python",
   "name": "python",
   "nbconvert_exporter": "python",
   "pygments_lexer": "ipython3",
   "version": "3.13.7"
  }
 },
 "nbformat": 4,
 "nbformat_minor": 5
}
